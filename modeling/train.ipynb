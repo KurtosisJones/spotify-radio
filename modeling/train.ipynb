{
 "cells": [
  {
   "cell_type": "code",
   "execution_count": 1,
   "metadata": {},
   "outputs": [],
   "source": [
    "%load_ext autoreload\n",
    "%autoreload 2"
   ]
  },
  {
   "cell_type": "code",
   "execution_count": 2,
   "metadata": {},
   "outputs": [],
   "source": [
    "## ineffiencies but i don't care\n",
    "# 1 running compress data and not saving it while training\n",
    "# 2 rerunning PCA for each compoent, could just run once and seperate each PC"
   ]
  },
  {
   "cell_type": "code",
   "execution_count": 3,
   "metadata": {},
   "outputs": [],
   "source": [
    "import numpy as np\n",
    "import torch\n",
    "import os\n",
    "import joblib\n",
    "from torch import nn, optim\n"
   ]
  },
  {
   "cell_type": "code",
   "execution_count": 4,
   "metadata": {},
   "outputs": [],
   "source": [
    "from helper.cluster import Kmeans, Kmedians, DBScan\n",
    "from helper.dimension_reduction import PCA, AutoEncoder"
   ]
  },
  {
   "cell_type": "code",
   "execution_count": 5,
   "metadata": {},
   "outputs": [],
   "source": [
    "import boto3\n",
    "import io"
   ]
  },
  {
   "cell_type": "code",
   "execution_count": 6,
   "metadata": {},
   "outputs": [],
   "source": [
    "s3 = boto3.resource('s3')\n",
    "bucket = s3.Bucket('dataandmodel20240505')\n",
    "obj = bucket.Object('train/array.npy')"
   ]
  },
  {
   "cell_type": "code",
   "execution_count": 7,
   "metadata": {},
   "outputs": [],
   "source": [
    "response = obj.get()\n",
    "body = response['Body'].read()\n",
    "file_stream = io.BytesIO(body)\n",
    "np_features = np.load(file_stream, allow_pickle=True)"
   ]
  },
  {
   "cell_type": "code",
   "execution_count": 8,
   "metadata": {},
   "outputs": [],
   "source": [
    "string_data = np_features[:, -1]\n",
    "np.save('trained/audio_index.npy', string_data)"
   ]
  },
  {
   "cell_type": "code",
   "execution_count": 9,
   "metadata": {},
   "outputs": [],
   "source": [
    "np_features = np.delete(np_features, -1, axis = 1)"
   ]
  },
  {
   "cell_type": "code",
   "execution_count": 10,
   "metadata": {},
   "outputs": [],
   "source": [
    "np_features = np_features.astype(np.float64)\n",
    "features_mean = np.mean(np_features)\n",
    "features_std = np.std(np_features)\n",
    "std_np_features = (np_features - features_mean) / features_std"
   ]
  },
  {
   "cell_type": "code",
   "execution_count": 11,
   "metadata": {},
   "outputs": [
    {
     "name": "stdout",
     "output_type": "stream",
     "text": [
      "PCA saved with 1 components\n",
      "PCA saved with 2 components\n",
      "PCA saved with 3 components\n",
      "PCA saved with 4 components\n",
      "PCA saved with 5 components\n",
      "PCA saved with 6 components\n",
      "PCA saved with 7 components\n",
      "PCA saved with 8 components\n",
      "PCA saved with 9 components\n",
      "PCA saved with 10 components\n",
      "PCA saved with 11 components\n"
     ]
    }
   ],
   "source": [
    "loss_function = nn.MSELoss()\n",
    "\n",
    "for i in range(1, std_np_features.shape[1] - 1):\n",
    "    pca = PCA(i, np_features)\n",
    "    os.makedirs(f\"trained/pca_c{i}/\", exist_ok=True)\n",
    "    joblib.dump(pca, f\"trained/pca_c{i}/pca.pkl\")\n",
    "    print(f\"PCA saved with {i} components\")\n",
    "\n",
    "for i in range(1, 4):\n",
    "    autoencoder = AutoEncoder(latent_space=i)\n",
    "    optimizer = optim.Adam(autoencoder.parameters(), lr=0.001)\n",
    "    autoencoder.custom_train(std_np_features, 25, loss_function, optimizer)\n",
    "    os.makedirs(f\"trained/auto_l{i}/\", exist_ok=True)\n",
    "    joblib.dump(autoencoder, f\"trained/auto_l{i}/autoencoder.pkl\")"
   ]
  },
  {
   "cell_type": "code",
   "execution_count": null,
   "metadata": {},
   "outputs": [
    {
     "name": "stderr",
     "output_type": "stream",
     "text": [
      "/Users/joshuascomputer/opt/anaconda3/envs/thesis_env/lib/python3.8/site-packages/numpy/core/fromnumeric.py:3464: RuntimeWarning: Mean of empty slice.\n",
      "  return _methods._mean(a, axis=axis, dtype=dtype,\n",
      "/Users/joshuascomputer/opt/anaconda3/envs/thesis_env/lib/python3.8/site-packages/numpy/core/_methods.py:184: RuntimeWarning: invalid value encountered in divide\n",
      "  ret = um.true_divide(\n"
     ]
    }
   ],
   "source": [
    "for dirpath, dirnames, filenames in os.walk(\"trained\"):\n",
    "    for filename in filenames:\n",
    "        if filename.endswith('.pkl'):\n",
    "            file_path = os.path.join(dirpath, filename)\n",
    "            model = joblib.load(filename=file_path)\n",
    "            if filename.startswith(\"pca\"):\n",
    "                components = model.get_pca()\n",
    "\n",
    "                for clusters in range(2, 6):\n",
    "                    kmeans = Kmeans(clusters, 1000)\n",
    "                    kmeans.fit(components)\n",
    "                    os.makedirs(f\"{dirpath}/kmeans_c{clusters}\", exist_ok=True)\n",
    "                    joblib.dump(kmeans, f\"{dirpath}/kmeans_c{clusters}/cluster.pkl\")\n",
    "\n",
    "                    kmedians = Kmedians(clusters, 1000)\n",
    "                    kmedians.fit(components)\n",
    "                    os.makedirs(f\"{dirpath}/kmedians_c{clusters}\", exist_ok=True)\n",
    "                    joblib.dump(kmedians, f\"{dirpath}/kmedians_c{clusters}/cluster.pkl\")\n",
    "            elif filename.startswith(\"auto\"):\n",
    "                latent_space = model.compress_data(std_np_features)\n",
    "\n",
    "                latent_space = latent_space.detach().cpu().numpy()\n",
    "                for clusters in range(2, 6):\n",
    "                    kmeans = Kmeans(clusters, 1000)\n",
    "                    kmeans.fit(latent_space)\n",
    "\n",
    "                    os.makedirs(f\"{dirpath}/kmeans_c{clusters}\", exist_ok=True)\n",
    "                    joblib.dump(kmeans, f\"{dirpath}/kmeans_c{clusters}/cluster.pkl\")\n",
    "\n",
    "                    kmedians = Kmedians(clusters, 1000)\n",
    "                    kmedians.fit(latent_space)\n",
    "\n",
    "                    os.makedirs(f\"{dirpath}/kmedians_c{clusters}\", exist_ok=True)\n",
    "                    joblib.dump(kmedians, f\"{dirpath}/kmedians_c{clusters}/cluster.pkl\")"
   ]
  },
  {
   "cell_type": "code",
   "execution_count": null,
   "metadata": {},
   "outputs": [],
   "source": [
    "for clusters in range(2, 6):\n",
    "    kmeans = Kmeans(clusters, 1000)\n",
    "    kmeans.fit(np_features)\n",
    "\n",
    "    os.makedirs(f\"trained/base/kmeans_c{clusters}\", exist_ok=True)\n",
    "    joblib.dump(kmeans, f\"trained/base/kmeans_c{clusters}/cluster.pkl\")\n",
    "\n",
    "    kmedians = Kmedians(clusters, 1000)\n",
    "    kmedians.fit(np_features)\n",
    "\n",
    "    os.makedirs(f\"trained/base/kmedians_c{clusters}\", exist_ok=True)\n",
    "    joblib.dump(kmedians, f\"trained/base/kmedians_c{clusters}/cluster.pkl\")"
   ]
  },
  {
   "cell_type": "code",
   "execution_count": null,
   "metadata": {},
   "outputs": [],
   "source": [
    "## take a sample reduce it\n"
   ]
  }
 ],
 "metadata": {
  "kernelspec": {
   "display_name": "Thesis env",
   "language": "python",
   "name": "thesis_env"
  },
  "language_info": {
   "codemirror_mode": {
    "name": "ipython",
    "version": 3
   },
   "file_extension": ".py",
   "mimetype": "text/x-python",
   "name": "python",
   "nbconvert_exporter": "python",
   "pygments_lexer": "ipython3",
   "version": "3.8.18"
  },
  "orig_nbformat": 4,
  "vscode": {
   "interpreter": {
    "hash": "b7ab3b8cf9fec3ee533b1070036c9e0a2f944c6b874fa15e1a468d30a0d9557a"
   }
  }
 },
 "nbformat": 4,
 "nbformat_minor": 2
}
