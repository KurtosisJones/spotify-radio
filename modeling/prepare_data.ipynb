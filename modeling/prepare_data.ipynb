{
 "cells": [
  {
   "cell_type": "code",
   "execution_count": 1,
   "metadata": {},
   "outputs": [],
   "source": [
    "%load_ext autoreload\n",
    "%autoreload 2"
   ]
  },
  {
   "cell_type": "code",
   "execution_count": 20,
   "metadata": {},
   "outputs": [],
   "source": [
    "import pandas as pd\n",
    "import numpy as np\n",
    "import boto3"
   ]
  },
  {
   "cell_type": "code",
   "execution_count": 21,
   "metadata": {},
   "outputs": [],
   "source": [
    "df_features = pd.read_csv(\"dataset.csv\")\n",
    "df_features = df_features.drop([\"Unnamed: 0\", \"popularity\"], axis = 1)"
   ]
  },
  {
   "cell_type": "code",
   "execution_count": 22,
   "metadata": {},
   "outputs": [],
   "source": [
    "np_features = df_features.select_dtypes([float, int])\n",
    "np_features = np_features[sorted(np_features)]\n",
    "np_features[\"track_id\"] = df_features[\"track_id\"]"
   ]
  },
  {
   "cell_type": "code",
   "execution_count": 23,
   "metadata": {},
   "outputs": [],
   "source": [
    "np_features = np_features.to_numpy()"
   ]
  },
  {
   "cell_type": "code",
   "execution_count": 26,
   "metadata": {},
   "outputs": [
    {
     "data": {
      "text/plain": [
       "array([[0.0322, 0.676, 230666, ..., 4, 0.715, '5SuOikwiRyPMVoIQDJUgSV'],\n",
       "       [0.924, 0.42, 149610, ..., 4, 0.267, '4qPNDBW1i3p13qLCt0Ki3A'],\n",
       "       [0.21, 0.438, 210826, ..., 4, 0.12, '1iJBSr7s7jYXzM8EGcbK5b'],\n",
       "       ...,\n",
       "       [0.867, 0.629, 271466, ..., 4, 0.743, '6x8ZfSoqDjuNa5SVP5QjvX'],\n",
       "       [0.381, 0.587, 283893, ..., 4, 0.413, '2e6sXL2bYv4bSz6VTdnfLs'],\n",
       "       [0.681, 0.526, 241826, ..., 4, 0.708, '2hETkH7cOfqmz3LqZDHZf5']],\n",
       "      dtype=object)"
      ]
     },
     "execution_count": 26,
     "metadata": {},
     "output_type": "execute_result"
    }
   ],
   "source": [
    "np_features"
   ]
  },
  {
   "cell_type": "code",
   "execution_count": 24,
   "metadata": {},
   "outputs": [],
   "source": [
    "np.save('array.npy', np_features)"
   ]
  },
  {
   "cell_type": "code",
   "execution_count": 25,
   "metadata": {},
   "outputs": [],
   "source": [
    "s3 = boto3.resource('s3')\n",
    "\n",
    "s3.Bucket(\"dataandmodel20240505\").upload_file(\"array.npy\", \"train/array.npy\")"
   ]
  },
  {
   "cell_type": "code",
   "execution_count": null,
   "metadata": {},
   "outputs": [],
   "source": []
  }
 ],
 "metadata": {
  "kernelspec": {
   "display_name": "thesis_env",
   "language": "python",
   "name": "python3"
  },
  "language_info": {
   "codemirror_mode": {
    "name": "ipython",
    "version": 3
   },
   "file_extension": ".py",
   "mimetype": "text/x-python",
   "name": "python",
   "nbconvert_exporter": "python",
   "pygments_lexer": "ipython3",
   "version": "3.8.18"
  },
  "orig_nbformat": 4,
  "vscode": {
   "interpreter": {
    "hash": "b7ab3b8cf9fec3ee533b1070036c9e0a2f944c6b874fa15e1a468d30a0d9557a"
   }
  }
 },
 "nbformat": 4,
 "nbformat_minor": 2
}
