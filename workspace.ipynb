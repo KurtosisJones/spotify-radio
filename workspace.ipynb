{
 "cells": [
  {
   "cell_type": "code",
   "execution_count": 3,
   "metadata": {},
   "outputs": [
    {
     "data": {
      "text/plain": [
       "True"
      ]
     },
     "execution_count": 3,
     "metadata": {},
     "output_type": "execute_result"
    }
   ],
   "source": [
    "from dotenv import load_dotenv\n",
    "import os\n",
    "import requests\n",
    "\n",
    "load_dotenv()"
   ]
  },
  {
   "cell_type": "code",
   "execution_count": 8,
   "metadata": {},
   "outputs": [],
   "source": [
    "spotify_id = os.getenv('SPOTIFY_ID')\n",
    "spotify_key = os.getenv('SPOTIFY_TOKEN')"
   ]
  },
  {
   "cell_type": "code",
   "execution_count": 42,
   "metadata": {},
   "outputs": [],
   "source": [
    "import requests\n",
    "from base64 import b64encode\n",
    "\n",
    "def get_spotify_token(client_id, client_secret):\n",
    "    # Encode as Base64\n",
    "    credentials = b64encode(f\"{client_id}:{client_secret}\".encode()).decode('utf-8')\n",
    "\n",
    "    headers = {\n",
    "        \"Authorization\": f\"Basic {credentials}\"\n",
    "    }\n",
    "\n",
    "    body = {\n",
    "        \"grant_type\": \"client_credentials\"\n",
    "    }\n",
    "\n",
    "    token_url = \"https://accounts.spotify.com/api/token\"\n",
    "    response = requests.post(token_url, headers=headers, data=body)\n",
    "    response_data = response.json()\n",
    "    return response_data['access_token']\n",
    "\n",
    "access_token = get_spotify_token(spotify_id, spotify_key)"
   ]
  },
  {
   "cell_type": "code",
   "execution_count": 26,
   "metadata": {},
   "outputs": [],
   "source": [
    "headers = {\n",
    "    \"Authorization\": f\"Bearer {access_token}\",\n",
    "    \"Content-Type\": \"application/json\"\n",
    "}\n",
    "id=\"11dFghVXANMlKmJXsNCbNl\"\n",
    "endpoint = f\"https://api.spotify.com/v1/audio-features/{id}\""
   ]
  },
  {
   "cell_type": "code",
   "execution_count": 16,
   "metadata": {},
   "outputs": [],
   "source": [
    "response = requests.get(endpoint, headers=headers)\n"
   ]
  },
  {
   "cell_type": "code",
   "execution_count": 17,
   "metadata": {},
   "outputs": [
    {
     "data": {
      "text/plain": [
       "{'danceability': 0.696,\n",
       " 'energy': 0.905,\n",
       " 'key': 2,\n",
       " 'loudness': -2.743,\n",
       " 'mode': 1,\n",
       " 'speechiness': 0.103,\n",
       " 'acousticness': 0.011,\n",
       " 'instrumentalness': 0.000905,\n",
       " 'liveness': 0.302,\n",
       " 'valence': 0.625,\n",
       " 'tempo': 114.944,\n",
       " 'type': 'audio_features',\n",
       " 'id': '11dFghVXANMlKmJXsNCbNl',\n",
       " 'uri': 'spotify:track:11dFghVXANMlKmJXsNCbNl',\n",
       " 'track_href': 'https://api.spotify.com/v1/tracks/11dFghVXANMlKmJXsNCbNl',\n",
       " 'analysis_url': 'https://api.spotify.com/v1/audio-analysis/11dFghVXANMlKmJXsNCbNl',\n",
       " 'duration_ms': 207960,\n",
       " 'time_signature': 4}"
      ]
     },
     "execution_count": 17,
     "metadata": {},
     "output_type": "execute_result"
    }
   ],
   "source": [
    "response.json()"
   ]
  },
  {
   "cell_type": "code",
   "execution_count": 71,
   "metadata": {},
   "outputs": [],
   "source": [
    "import time\n",
    "import requests\n",
    "\n",
    "def safe_request(url:str, headers:dict, params:dict=None, max_retries:int=20):\n",
    "    retry_wait = 1\n",
    "    for i in range(max_retries):\n",
    "        response = requests.get(url, headers=headers, params=params)\n",
    "        if response.status_code == 200:\n",
    "            return response\n",
    "        elif response.status_code == 429:\n",
    "            retry_after = int(response.headers.get('Retry-After', retry_wait))\n",
    "            print(retry_after)\n",
    "            print(f\"Rate limit exceeded, retrying after {retry_after} seconds...\")\n",
    "            time.sleep(retry_after)\n",
    "            retry_wait *= 2 \n",
    "        else:\n",
    "            response.raise_for_status()\n",
    "    raise Exception(\"Max retries exceeded\")\n",
    "\n",
    "def search_tracks_by_genre(access_token:str, genre:str, limit:int=50, records:int=500):\n",
    "    url = \"https://api.spotify.com/v1/search\"\n",
    "    track_ids = []\n",
    "    offset = 0\n",
    "\n",
    "    while len(track_ids) < records:\n",
    "        query_params = {\n",
    "            \"q\": f\"genre:{genre}\",\n",
    "            \"type\": \"track\",\n",
    "            \"limit\": limit,\n",
    "            \"offset\": offset\n",
    "        }\n",
    "        headers = {\"Authorization\": f\"Bearer {access_token}\"}\n",
    "        \n",
    "        response = safe_request(url, headers=headers, params=query_params)\n",
    "        data = response.json()\n",
    "        tracks = data.get('tracks', {}).get('items', [])\n",
    "        \n",
    "        if not tracks:\n",
    "            break\n",
    "\n",
    "        for track in tracks:\n",
    "            track_ids.append(track['id'])\n",
    "        \n",
    "        offset += limit\n",
    "        if len(tracks) < limit:\n",
    "            break\n",
    "\n",
    "    return track_ids\n",
    "\n",
    "def get_audio_features_by_id(access_token, track_ids):\n",
    "    audio_features = []\n",
    "    batch_size = 100\n",
    "\n",
    "    for start in range(0, len(track_ids), batch_size):\n",
    "        end = start + batch_size\n",
    "        batch_ids = track_ids[start:end]\n",
    "        url = f\"https://api.spotify.com/v1/audio-features?ids={','.join(batch_ids)}\"\n",
    "        headers = {\"Authorization\": f\"Bearer {access_token}\"}\n",
    "        \n",
    "        print(f\"{url=}\")\n",
    "        response = safe_request(url, headers=headers)\n",
    "        data = response.json()\n",
    "\n",
    "        if 'error' in data:\n",
    "            print(\"Error:\", data['error']['message'])\n",
    "            return None\n",
    "        \n",
    "        batch_features = data.get('audio_features', [])\n",
    "        if batch_features:\n",
    "            audio_features.extend(batch_features)\n",
    "        else:\n",
    "            print(\"No data received for batch:\", batch_ids)\n",
    "\n",
    "    return audio_features\n"
   ]
  },
  {
   "cell_type": "code",
   "execution_count": 65,
   "metadata": {},
   "outputs": [],
   "source": [
    "import json\n",
    "\n",
    "with open(\"music_genres.json\", \"r\") as af:\n",
    "    genres = json.load(af)"
   ]
  },
  {
   "cell_type": "code",
   "execution_count": 66,
   "metadata": {},
   "outputs": [],
   "source": [
    "complete_track_list = []\n",
    "\n",
    "for genre in genres[\"music_genres\"][0:4]: # add limit to make this a simple initial task\n",
    "    complete_track_list.extend(search_tracks_by_genre(access_token, genre))"
   ]
  },
  {
   "cell_type": "code",
   "execution_count": 67,
   "metadata": {},
   "outputs": [],
   "source": [
    "with open(\"track_ids.json\", \"w\") as af:\n",
    "    af.write(json.dumps({\"track_ids\": complete_track_list}))"
   ]
  },
  {
   "cell_type": "code",
   "execution_count": 68,
   "metadata": {},
   "outputs": [],
   "source": [
    "with open(\"track_ids.json\", \"r\") as af:\n",
    "    track_list = json.load(af)"
   ]
  },
  {
   "cell_type": "code",
   "execution_count": 69,
   "metadata": {},
   "outputs": [],
   "source": [
    "complete_track_list = track_list[\"track_ids\"]"
   ]
  },
  {
   "cell_type": "code",
   "execution_count": 72,
   "metadata": {},
   "outputs": [
    {
     "name": "stdout",
     "output_type": "stream",
     "text": [
      "url='https://api.spotify.com/v1/audio-features?ids=2bQarhW0eXpUO2g5a4ncZp,6Y1sT1W7ATUhgIyuB6fd2P,7xKPrsvnyVn0fEDmHHV4SF,47NXyPVI1qgz5ThcyiBM8I,5YWQlCqgPpyeZ17a9eqgZa,7M62Hqghz8osQILzAIJWaP,69S4fitMHVrVgbk8WZcPsZ,0y3ZRDYRDDMrbatpvhqZ1r,65P3IBgRj9aO0wQfmXzxW1,1pjwVLK6IE5oAZ9WSmlmm9,4AFb7GPWT2osksulSs7qjf,6rwsduqKvGn30R3J1FL6hK,4tFiDHBcVUkFWW5wc7Ry9M,7sOuqN865ZVObRS3LfwHzs,0UFeSZvYbUPZVeHCo3SNF3,0OJ6vKdJ71hAeqfzZ701pQ,7MsbXbQN2xc4NSuodDqIc4,7sblnXksCahIgUAdX1aTPy,7KO2Lk9X5Eb4RIaUutW5DL,1otUiIpY2QekoZwcPJtVbL,5qFl7PkUlDijgWksSyFIFg,4NSYEUdBPPBjIaPHIMPqdN,2Fr0zC0wKX01X7LSOMeVLr,6mtLysLyNyfWbr58nfqMV1,4ZiZDc0NIrrGTv3SNOMqZ3,3iulr03RqyQBDJItsaR46e,5f09cMt7yfm8DPKAHRFOXS,05XhneYOozrRUuw3hdaYFu,6VFcqDx6hFv6lSylQaNr42,5cgbLlOQNOQZkU5af0Aict,1hecBi6qXM8bjTPnJjr205,3o0pDrsaLubIoRSSeS3fTO,1RaUezq8CWuRubSda1HaLP,5qVPF3mjUkGSLda9ISeWjF,7zxym1sT9lcnmQ8ojqSqc4,33xo5xX9T7EQSAGsFfhBlH,4SepgeUrKPOwvpURr0aHMP,5362HePURJTQuNtFjyDmuM,0rGRq785D2i84ToyKgQMBR,7vLHGc0XlJoSmaOV4Grwql,6eWIJTgrEBJPs5quLHwde0,0Z5mEGteOOMEwYhhwBCP5A,1AEFUeI8JLlkjASAuWigsL,2TxZ8JAypBhn7GWyzwX4hR,1eMSw6nnhEhI2W5KfYcezB,50U3nhrdpOXJhbjxbo9T2i,3V8hGn7ZhRjBnksOA2Zwqj,5ibD44M1XGm6LqrtioXW1h,752FtjGu4SuHIli9MrSrsz,01lvRtFPB51Sa3EzXKbH79,29Wy7s15PFxUc6NlCxHF3B,2yWQzGOY2O17z7GkDurBEB,7I1VDPeYO1Q77yj8A3fSDK,5GOonYOwtKeWrfiJGXTWCZ,3AEQiKTeJhZQ2tOt0Lh4t4,36C99s0QSGHaQrpInbBckc,6hg1lbPBWBZQKvjlskAis1,6ONS6lbHi6uNjbXOnLUkxT,2Cp4H0FIb86VbwQPdSel0t,3yhSgLtRtYHea762DLyoAe,6ox2oCkpcEMxgswQZAjKKx,3c0KfxmJa45ErZejThLxYF,1ThtUG9FXJDRsncLoj698z,1AFFBLMammmT9QF9EaHabq,1mVJx3J5jOMbrVgS7jCaKK,6IyY9GJs19oTieQGYEENfw,68c718Y0Az00bjUgjzLl2i,40YBqfbKlYh55wvKrJvqmm,1ogylrdc3PxCnriGsNNAcw,1QJtefDTLEOiM3fXMRBByB,27j8eY8tbNHN4RYgO9wXcj,2eKXBDzfmY1I1TYPx1zk6g,0wIuduEkOWCFrWZUxVC1lY,4UvwXOGb1J39WUutrlXwTF,20vI8y54qUlPLGBbYWAJeq,6Gz636zVLn1zTiNM7sfERp,6A01kecGAZUNsEufsg8Fvj,5KcRnGVJt5UGtsTwYlG5qJ,3XFqT4EXnULQJobG9eilN0,4ADBECleY1W07PUKeKbsBN,6kdbmxs4hLdlqEm96HitTu,2fSskez8whLr8b1EAx8bkG,765yQbOzD7C0TZHbi6PCpu,0xWQYnsNl1df1AXqGQiPBA,00XkoyPrNWezkad1IYW4iV,1dQNzo7Avk2rJzHH642rX5,2slEt181VugnNBpZqb5Mlp,3hWPgwii27M4aKc1SoLF1u,5y5lTayhyzzdtIkAOHyIw3,7e71sSLD3KOYstj0X2Gqjz,0nhwoo9igFU8s1l8sI3nNQ,6ePgBo6IJsEbiwCYqmu1M6,4d4lkdQsrVDWy8HMIKDlpN,5FqMOMjTDrVv3IIKDKRXPs,2O9c6vcQj3CWMoPM2tEeVl,7aQstJPyQ2Gpv629i38jxD,6fxkMXFkUENtnhwcw4PYAB,2xjggQFEs0yYm6Hvo71l7w,5yK6tgdZ0JRTc9826gGcYD,3XBCUofERh5vvrWBSh6353'\n",
      "b'{\\n  \"error\" : {\\n    \"status\" : 429\\n  }\\n}'\n",
      "1\n",
      "Rate limit exceeded, retrying after 1 seconds...\n",
      "b'{\\n  \"error\" : {\\n    \"status\" : 429\\n  }\\n}'\n",
      "2\n",
      "Rate limit exceeded, retrying after 2 seconds...\n",
      "b'{\\n  \"error\" : {\\n    \"status\" : 429\\n  }\\n}'\n",
      "4\n",
      "Rate limit exceeded, retrying after 4 seconds...\n",
      "b'{\\n  \"error\" : {\\n    \"status\" : 429\\n  }\\n}'\n",
      "8\n",
      "Rate limit exceeded, retrying after 8 seconds...\n",
      "b'{\\n  \"error\" : {\\n    \"status\" : 429\\n  }\\n}'\n",
      "16\n",
      "Rate limit exceeded, retrying after 16 seconds...\n",
      "b'{\\n  \"error\" : {\\n    \"status\" : 429\\n  }\\n}'\n",
      "32\n",
      "Rate limit exceeded, retrying after 32 seconds...\n",
      "b'{\\n  \"error\" : {\\n    \"status\" : 429\\n  }\\n}'\n",
      "64\n",
      "Rate limit exceeded, retrying after 64 seconds...\n",
      "b'{\\n  \"error\" : {\\n    \"status\" : 429\\n  }\\n}'\n",
      "128\n",
      "Rate limit exceeded, retrying after 128 seconds...\n"
     ]
    }
   ],
   "source": [
    "# Rate limit on this endpoint is crazy\n",
    "audio_feature_list = get_audio_features_by_id(access_token, complete_track_list)"
   ]
  },
  {
   "cell_type": "code",
   "execution_count": 56,
   "metadata": {},
   "outputs": [],
   "source": [
    "with open(\"audio_feature.json\", \"w\") as af:\n",
    "    af.write(json.dumps({\"audio_features\": audio_feature_list}))"
   ]
  },
  {
   "cell_type": "code",
   "execution_count": 57,
   "metadata": {},
   "outputs": [
    {
     "data": {
      "text/plain": [
       "[]"
      ]
     },
     "execution_count": 57,
     "metadata": {},
     "output_type": "execute_result"
    }
   ],
   "source": [
    "audio_feature_list"
   ]
  },
  {
   "cell_type": "code",
   "execution_count": null,
   "metadata": {},
   "outputs": [],
   "source": []
  }
 ],
 "metadata": {
  "kernelspec": {
   "display_name": "thesis_env",
   "language": "python",
   "name": "python3"
  },
  "language_info": {
   "codemirror_mode": {
    "name": "ipython",
    "version": 3
   },
   "file_extension": ".py",
   "mimetype": "text/x-python",
   "name": "python",
   "nbconvert_exporter": "python",
   "pygments_lexer": "ipython3",
   "version": "3.8.18"
  },
  "orig_nbformat": 4,
  "vscode": {
   "interpreter": {
    "hash": "b7ab3b8cf9fec3ee533b1070036c9e0a2f944c6b874fa15e1a468d30a0d9557a"
   }
  }
 },
 "nbformat": 4,
 "nbformat_minor": 2
}
