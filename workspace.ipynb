{
 "cells": [
  {
   "cell_type": "code",
   "execution_count": 3,
   "metadata": {},
   "outputs": [
    {
     "data": {
      "text/plain": [
       "True"
      ]
     },
     "execution_count": 3,
     "metadata": {},
     "output_type": "execute_result"
    }
   ],
   "source": [
    "from dotenv import load_dotenv\n",
    "import os\n",
    "import requests\n",
    "\n",
    "load_dotenv()"
   ]
  },
  {
   "cell_type": "code",
   "execution_count": 8,
   "metadata": {},
   "outputs": [],
   "source": [
    "spotify_id = os.getenv('SPOTIFY_ID')\n",
    "spotify_key = os.getenv('SPOTIFY_TOKEN')"
   ]
  },
  {
   "cell_type": "code",
   "execution_count": 9,
   "metadata": {},
   "outputs": [],
   "source": [
    "import requests\n",
    "from base64 import b64encode\n",
    "\n",
    "def get_spotify_token(client_id, client_secret):\n",
    "    # Encode as Base64\n",
    "    credentials = b64encode(f\"{client_id}:{client_secret}\".encode()).decode('utf-8')\n",
    "\n",
    "    headers = {\n",
    "        \"Authorization\": f\"Basic {credentials}\"\n",
    "    }\n",
    "\n",
    "    body = {\n",
    "        \"grant_type\": \"client_credentials\"\n",
    "    }\n",
    "\n",
    "    token_url = \"https://accounts.spotify.com/api/token\"\n",
    "    response = requests.post(token_url, headers=headers, data=body)\n",
    "    response_data = response.json()\n",
    "    return response_data['access_token']\n",
    "\n",
    "access_token = get_spotify_token(spotify_id, spotify_key)"
   ]
  },
  {
   "cell_type": "code",
   "execution_count": 11,
   "metadata": {},
   "outputs": [],
   "source": [
    "headers = {\n",
    "    \"Authorization\": f\"Bearer {access_token}\",\n",
    "    \"Content-Type\": \"application/json\"\n",
    "}\n",
    "id=\"11dFghVXANMlKmJXsNCbNl\"\n",
    "endpoint = f\"https://api.spotify.com/v1/tracks/{id}\""
   ]
  },
  {
   "cell_type": "code",
   "execution_count": 12,
   "metadata": {},
   "outputs": [],
   "source": [
    "response = requests.get(endpoint, headers=headers)\n"
   ]
  },
  {
   "cell_type": "code",
   "execution_count": 14,
   "metadata": {},
   "outputs": [
    {
     "data": {
      "text/plain": [
       "{'album': {'album_type': 'single',\n",
       "  'artists': [{'external_urls': {'spotify': 'https://open.spotify.com/artist/6sFIWsNpZYqfjUpaCgueju'},\n",
       "    'href': 'https://api.spotify.com/v1/artists/6sFIWsNpZYqfjUpaCgueju',\n",
       "    'id': '6sFIWsNpZYqfjUpaCgueju',\n",
       "    'name': 'Carly Rae Jepsen',\n",
       "    'type': 'artist',\n",
       "    'uri': 'spotify:artist:6sFIWsNpZYqfjUpaCgueju'}],\n",
       "  'available_markets': [],\n",
       "  'external_urls': {'spotify': 'https://open.spotify.com/album/0tGPJ0bkWOUmH7MEOR77qc'},\n",
       "  'href': 'https://api.spotify.com/v1/albums/0tGPJ0bkWOUmH7MEOR77qc',\n",
       "  'id': '0tGPJ0bkWOUmH7MEOR77qc',\n",
       "  'images': [{'height': 640,\n",
       "    'url': 'https://i.scdn.co/image/ab67616d0000b2737359994525d219f64872d3b1',\n",
       "    'width': 640},\n",
       "   {'height': 300,\n",
       "    'url': 'https://i.scdn.co/image/ab67616d00001e027359994525d219f64872d3b1',\n",
       "    'width': 300},\n",
       "   {'height': 64,\n",
       "    'url': 'https://i.scdn.co/image/ab67616d000048517359994525d219f64872d3b1',\n",
       "    'width': 64}],\n",
       "  'name': 'Cut To The Feeling',\n",
       "  'release_date': '2017-05-26',\n",
       "  'release_date_precision': 'day',\n",
       "  'total_tracks': 1,\n",
       "  'type': 'album',\n",
       "  'uri': 'spotify:album:0tGPJ0bkWOUmH7MEOR77qc'},\n",
       " 'artists': [{'external_urls': {'spotify': 'https://open.spotify.com/artist/6sFIWsNpZYqfjUpaCgueju'},\n",
       "   'href': 'https://api.spotify.com/v1/artists/6sFIWsNpZYqfjUpaCgueju',\n",
       "   'id': '6sFIWsNpZYqfjUpaCgueju',\n",
       "   'name': 'Carly Rae Jepsen',\n",
       "   'type': 'artist',\n",
       "   'uri': 'spotify:artist:6sFIWsNpZYqfjUpaCgueju'}],\n",
       " 'available_markets': [],\n",
       " 'disc_number': 1,\n",
       " 'duration_ms': 207959,\n",
       " 'explicit': False,\n",
       " 'external_ids': {'isrc': 'USUM71703861'},\n",
       " 'external_urls': {'spotify': 'https://open.spotify.com/track/11dFghVXANMlKmJXsNCbNl'},\n",
       " 'href': 'https://api.spotify.com/v1/tracks/11dFghVXANMlKmJXsNCbNl',\n",
       " 'id': '11dFghVXANMlKmJXsNCbNl',\n",
       " 'is_local': False,\n",
       " 'name': 'Cut To The Feeling',\n",
       " 'popularity': 0,\n",
       " 'preview_url': None,\n",
       " 'track_number': 1,\n",
       " 'type': 'track',\n",
       " 'uri': 'spotify:track:11dFghVXANMlKmJXsNCbNl'}"
      ]
     },
     "execution_count": 14,
     "metadata": {},
     "output_type": "execute_result"
    }
   ],
   "source": [
    "response.json()"
   ]
  },
  {
   "cell_type": "code",
   "execution_count": null,
   "metadata": {},
   "outputs": [],
   "source": []
  }
 ],
 "metadata": {
  "kernelspec": {
   "display_name": "thesis_env",
   "language": "python",
   "name": "python3"
  },
  "language_info": {
   "codemirror_mode": {
    "name": "ipython",
    "version": 3
   },
   "file_extension": ".py",
   "mimetype": "text/x-python",
   "name": "python",
   "nbconvert_exporter": "python",
   "pygments_lexer": "ipython3",
   "version": "3.8.18"
  },
  "orig_nbformat": 4,
  "vscode": {
   "interpreter": {
    "hash": "b7ab3b8cf9fec3ee533b1070036c9e0a2f944c6b874fa15e1a468d30a0d9557a"
   }
  }
 },
 "nbformat": 4,
 "nbformat_minor": 2
}
