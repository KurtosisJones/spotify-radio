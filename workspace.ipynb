{
 "cells": [
  {
   "cell_type": "code",
   "execution_count": 3,
   "metadata": {},
   "outputs": [
    {
     "data": {
      "text/plain": [
       "True"
      ]
     },
     "execution_count": 3,
     "metadata": {},
     "output_type": "execute_result"
    }
   ],
   "source": [
    "from dotenv import load_dotenv\n",
    "import os\n",
    "import requests\n",
    "\n",
    "load_dotenv()"
   ]
  },
  {
   "cell_type": "code",
   "execution_count": 8,
   "metadata": {},
   "outputs": [],
   "source": [
    "spotify_id = os.getenv('SPOTIFY_ID')\n",
    "spotify_key = os.getenv('SPOTIFY_TOKEN')"
   ]
  },
  {
   "cell_type": "code",
   "execution_count": 9,
   "metadata": {},
   "outputs": [],
   "source": [
    "import requests\n",
    "from base64 import b64encode\n",
    "\n",
    "def get_spotify_token(client_id, client_secret):\n",
    "    # Encode as Base64\n",
    "    credentials = b64encode(f\"{client_id}:{client_secret}\".encode()).decode('utf-8')\n",
    "\n",
    "    headers = {\n",
    "        \"Authorization\": f\"Basic {credentials}\"\n",
    "    }\n",
    "\n",
    "    body = {\n",
    "        \"grant_type\": \"client_credentials\"\n",
    "    }\n",
    "\n",
    "    token_url = \"https://accounts.spotify.com/api/token\"\n",
    "    response = requests.post(token_url, headers=headers, data=body)\n",
    "    response_data = response.json()\n",
    "    return response_data['access_token']\n",
    "\n",
    "access_token = get_spotify_token(spotify_id, spotify_key)"
   ]
  },
  {
   "cell_type": "code",
   "execution_count": 15,
   "metadata": {},
   "outputs": [],
   "source": [
    "headers = {\n",
    "    \"Authorization\": f\"Bearer {access_token}\",\n",
    "    \"Content-Type\": \"application/json\"\n",
    "}\n",
    "id=\"11dFghVXANMlKmJXsNCbNl\"\n",
    "endpoint = f\"https://api.spotify.com/v1/audio-features/{id}\""
   ]
  },
  {
   "cell_type": "code",
   "execution_count": 16,
   "metadata": {},
   "outputs": [],
   "source": [
    "response = requests.get(endpoint, headers=headers)\n"
   ]
  },
  {
   "cell_type": "code",
   "execution_count": 17,
   "metadata": {},
   "outputs": [
    {
     "data": {
      "text/plain": [
       "{'danceability': 0.696,\n",
       " 'energy': 0.905,\n",
       " 'key': 2,\n",
       " 'loudness': -2.743,\n",
       " 'mode': 1,\n",
       " 'speechiness': 0.103,\n",
       " 'acousticness': 0.011,\n",
       " 'instrumentalness': 0.000905,\n",
       " 'liveness': 0.302,\n",
       " 'valence': 0.625,\n",
       " 'tempo': 114.944,\n",
       " 'type': 'audio_features',\n",
       " 'id': '11dFghVXANMlKmJXsNCbNl',\n",
       " 'uri': 'spotify:track:11dFghVXANMlKmJXsNCbNl',\n",
       " 'track_href': 'https://api.spotify.com/v1/tracks/11dFghVXANMlKmJXsNCbNl',\n",
       " 'analysis_url': 'https://api.spotify.com/v1/audio-analysis/11dFghVXANMlKmJXsNCbNl',\n",
       " 'duration_ms': 207960,\n",
       " 'time_signature': 4}"
      ]
     },
     "execution_count": 17,
     "metadata": {},
     "output_type": "execute_result"
    }
   ],
   "source": [
    "response.json()"
   ]
  },
  {
   "cell_type": "code",
   "execution_count": 20,
   "metadata": {},
   "outputs": [
    {
     "name": "stdout",
     "output_type": "stream",
     "text": [
      "500 tracks found for genre: jazz\n",
      "['1cyYZZeLCRhyNTZR8jXvsh', '6pf8OHiqUaWHDixLf3sSIz', '2lrPuMBd8bid1pNGRKnY7G', '1jfoM3mcBUZq3qug1Q6LSL', '0MzkbrMbHgXAo5fqh45wWx', '16mSw8BYiPdUn1psSkdHxY', '3ZeUjMpGFjbgp72Ns86oQg', '0hvUmpHzFe00kEb6AuTeJk', '23NRb46iByzITqHoluFH56', '2ilKEoYak67tNNp3Lshkxu', '02CofDgfgz4dS50xeEQQsE', '4MaQS1q7Jr7U6XxY3r9Zqb', '28debq2HT9lyLCo5bfM1cu', '1uuYYRNtGRXngyuzF6vsHx', '6WrUCuJCmI2jb3vcQ7ZRln', '22LJafGzlkYijQc4hZgi5S', '6bGS68FyN5SVz5I8bkXaNL', '2vXVFJkACuC12lxWW2DGLW', '3fa2skuFVh3QlLoMfYGW89', '1gLwIHn6qJfXvMQtHSp91W', '27hpxf0tACgaYvgnreG04l', '00F9YYircqhjooagEeDfL8', '7brl3DZJTZaUOZEGuAjJpH', '54bJGpx5WLCgEeFtRvoNcK', '03dOjHR0mMr6AK6Aw7zOvA', '4G3aqZQlg5knO1bfFB56lD', '7fFY8GR2xPv1YAvxVPwn6m', '3yGVWdaiq8K4o2wuiSPHZi', '1KXkusRNAWhbkqwdDjhbxY', '2hIqFq62MMXF8vrVRDh5HY', '5oS8QQGxUK1D58jPiAcqFW', '2TGo595fAxdx0Id5z3mmVc', '2sNyKHn7mHtWKKHuURl30Y', '0tAC0qTjy7muEbqbcDuDKX', '66SJLLbVcqer5VSBoT7Zqc', '4NjldrmE0aLQJ41wqbsn9w', '4s4Cz0E5VJJDCBF3qOmgZU', '2zjAzUVvbnCzCrViZUotDt', '7fgmkSBWogJ1DtvLeRm1Vi', '5Q1KWZqAtdK8cKxu81U7Dw', '1aJzrOc4wnJrPuYXHUU28E', '4F6yZ4EkocECwshW7WkjNT', '5RQDKghrvnmDtQB9kU0iGc', '1bzXuZXw3jus0VPHMXoAGI', '6o5ZdH2qlbzelX6Tv8Zj5r', '4YqqJ9Rk1YcaUfN6MtuddD', '5pMhhtbAI1VHF3zrwZ4Zm1', '4vdSC3x6qGZ0QLRPAGHVhL', '3vte3RNP12nUjv8BRaoh6W', '6E7qx7wT5Ni9eOgKfUWTCU', '6QkNNVJdus35Uq0EyuwyrK', '7yXu8jRZADBFeRgASu1MJk', '38WHF1L31ObXEA3IKmCsU8', '4O2OxBEyp9QYIx0NUGOQuI', '2JR6udnqrWs1um9uYPkE0f', '1zzODJncboSiMubrPVCij5', '53d5A7kDiKcHRQk8jSwmz4', '4pOBYUHCI7W3eGQ5ruow8D', '6BCW1AsAqlUW1pWe6DfheL', '0USgJT2VptRM5C5uCJ2U82', '16qJMUmRaj9PiyXdOttceL', '17Zzdbh5sUOENRcrbq85G1', '5QIgnpIEUEJsmxomSOuPFp', '1O7TQSWxTqUIYo2vNYKwsR', '09AuMF9rxQap0LmlOFCTWm', '6Y4IHkMSMxV7OZAXPE151j', '4j7adPcnaCcdQUVP7xg6yc', '2kuUVFFucb3FhNjlkOi57u', '2XEll8IYYswxkxxuStV9EJ', '1H00GpyKKgb4ivCDd6zXoj', '0Cv77B02nfMd8vZwwmq7Tr', '5pzpgOOifnD8jiTfHYAC0E', '0IOpq0y0NomrQ3yvYGlBTf', '2dXf2p27jpi2lTRrwKIsaZ', '5iQ6JSyCWUO0eYgjqVFDDE', '42qRfcVKN7Qu4ytgfLgxvL', '7zzrxW3ODXTetcGegQyzzn', '2kVGwcGN8jz9t65bQpMYju', '2n6tuYjYJ7Qz0pnclvtf7M', '1xeEzt7xIW9dN9IXC25W8l', '4I7C4deFY8uyk7bwAWqVal', '2IIlrXxy4k0HvhrZIs0buH', '3JGdkm4TOBkknrhXSHXAhA', '08rPMjoRaffaeqZzWjHz4U', '1m0503pMJG6rD85qkhzGKR', '5oJUMYsGF8z91dayZnj7om', '4M83L1afJeMfejpw4NPu7b', '2yiaqTe4EXG3U4Vtbcvo1y', '7mfQnK7Vrcc3tgnlPkkvSv', '2ukA3R5DIgCfkRmpEY5sHV', '2BhAWEiMaMQ5L8sLvYsOI7', '7LDNmbUoAAOyDKrivltyDx', '0dX09gQOpJtKKvu0TDTF9s', '1KcMZ5jCLLHJ1ehng9EW75', '4qewF0J0D1VYmYMfZPjbSD', '39V7GPmqtr3Gk2G6wizjlQ', '0R0vBzVh9xypUJVRJ82pAt', '2PKHeZsdmwXrsCBMmkjAbW', '5PUn295ApbpYUmXY15AWSC', '6uGhZ870Nw06Yx8QDjQH3q', '5yzUe35papEQqFHulhxBWf', '6Mlx8x6LefD37PCKWcO29e', '2cX4Oj0kr82JVKv1RqLics', '3OVTmTH4JGtSWGt4Yvjj4k', '30gcqjRLKrHfBzU3i3SAIP', '6TwGn2w6lAXf2dIn9CAG1d', '37RQvOoEnykXHzVlf5NDuD', '0THhIOddRCYTYKIbaDpSPm', '7c0ilxfv64eAEyDOFIl0hZ', '2RlpGSCLRNKYPbShRqyUmf', '6vduYswmaB6WrvUHzIsOLo', '6E7jSRGUbRgleYQrqtLZRC', '6xZpo1U9tHD2Uc9Lkp4MAc', '1vrnltPaoDXhGW9RRtk1MC', '3qLvkfVfow4EYUHnCsLaJt', '2TT38qApnmrEPUOqi5LRx4', '5Q7U63MI4iVUT65MxUwGJZ', '0iK8V12Cki1sjCDuRoPVYc', '2NDWpt4kXRzoVHEgVlQehG', '3PDOQBsz3t802nFSTwsSeS', '3hb4mVnzj6aRThxHGNxyMF', '6p3iwHKSpnVcWYJi5emejT', '6TOu8D0Xt6wUmz0OFjO5uh', '7mTWGGsfC9ldD5IAHwi4L1', '5veS9FbhQpvbcCFcN2odfb', '49WiAvmA6hBDWoDIUhVFbE', '0xI6AMw2d9lijTZhk8rgH1', '4BDfXoIzxizqDy7Kf5Zbju', '3Cmr76eirC9bO8yzdqZ384', '5jKNgQnIbftch84b48fMQf', '7ASK19MTdGNUF7jUNLkmcv', '00br9yOTLLnx3lt7dsZKre', '1ZzDOPycfJX8WbYw778guV', '0eyRHc0tuRkUf8mWI3hvz3', '0rqdLBWBp9LXOuOyomNmYZ', '3NN0vPSjSpupqw4KZ9s3VG', '5dwlkIF1rnZl6FbH0d82Ag', '4zsB807GU7UCRvdR48u6AY', '5tQ3cPkmVDsKzCb8ZlZk9P', '79rm1p7Kti1geBccM155ot', '0XjyHiTk3C64hmYVWROau1', '2MLQf4tSuQ4tbSYefcVqpp', '1eWS4X3qlPbPyJAmu62fqG', '1sKIq2SelQIwkl4raksHST', '0oYNIojc16myA5jmv54FLy', '0NiEu8nxYnTndQV1qXLZhB', '3AfrZfbcaOpK2EecJN96Au', '3MIrEiLytI1OWHblB8niYU', '3MwiTKFXveDVhl3Xl5CfTf', '5ydlebYgygss9NJtksKIPY', '4Pp1r07eigeDdfX8aUHusO', '5kdWk5foT8C3L0Se6galJ9', '1x0cNKCdcsC7OrO81Xyodd', '545D89ab2sOe51g6DzGSRL', '2o536eMnbNn63rhsAoFcZi', '6Om87jJZye0PYVz5Zk2eNp', '29VLbhw8CZiTJfrywbcAFJ', '3u8IapuD4Okp6iIe9Y7dIa', '70tZa7JLTRDswIfy5EcD7D', '3zfxccGQlsTO3vHUlbZdZc', '3GPQY9Yg0ZOPmZKPJUsaEU', '5xnptVGmHfZ46xau6mwn06', '3B0qNwCnzbeXLB6fmw6d1B', '40YLVEyt5wdPcUPs8Qn0aX', '76zThtMv04hmXcQ3PSdfzv', '4sgR34zXVJF8P11jOKfiAD', '1pu3HROcMCpOXeHaDbtalh', '22UNG5IoOI9MJUIWLi0yRS', '7D608Ky5abRVbyDFN7HGdG', '1emq5jLvuABg42pxOYzyZF', '1d1LfTnBFuM3R62JA0QlEk', '1q7liGj1xnqiEw6Q1G6t3T', '6ANz5FoAzxuDybXitRXj2K', '6hMJqnXYjUCwhArz1juR74', '2vpHOlhO0upCcqQZGHOZcD', '4ndOrJBs6sWErkhASFS6T3', '7mMKRHGXECxpZxe2Z8Lm7m', '0IEy66PNpt8ZLsO7Pk1FxC', '28eFsYW5PsN5OqCnx9ernH', '6TWVG7M3pro8UrzU9nCFro', '658cEwdsHS9vUYMI3BQhBQ', '1ymSnjXNiObC0PPLYnTMfT', '11BeeQH5KuOMPSSn61JQS2', '3UiWinQAereQZ5OfYATREr', '682Vxydj7j3vGc8z7NUT8B', '4HKpWDxtuaCgL0qHf9onH3', '0y3RciFOaPv0PoM2KcFLAW', '2aSMjIv5fA7Id3lySHeP5J', '7s95nwpH2FO2MdJWHs5boZ', '5NoCCFLDDAvBFKtZ2ZtYtQ', '3iVi5ezfWOXonjsSCUQdlS', '2bli2eeg1VDQBeeVlbS5L4', '1pmjyAgGKqTWYo4wcu6lMm', '1MOf580KkeugqSUp9dKGLu', '47ndPvN4jEj1VjwovNMJLL', '5lyRji04jeLEGJnc4RkzwQ', '5GfKqcS64BnUef7bG1jnvP', '6431nOh40fI0nH4dIeB4y8', '383cGjSoqDmi66teWSMutt', '0GMi00GeJBzZxW11Kch770', '1CrbG1iyM9eHa7OiOsqQzC', '4Vrn2xq89DLdob5oAJravw', '4L2qKbYY1kqKqiX1UGAEfh', '2pyhjEP9YYkE5AkIg14Lba', '6gfCyskGqMGvw4lei4cxhJ', '2JSsXNHTiq4829SOJbQjsz', '3gRNowrmnhbpRBxXioAaUv', '7I5cFU41QGAyDH2kFHzwPq', '5S4Tub7CDqOSEpxlwz70rJ', '2btY08SfJXaW2cXPmkjlSZ', '1ibW7Nyc7rF11HXgEAihoQ', '0G2j87JfiWUo4YuG28M5bd', '07txo1e3Jb8EBKdphzFTeR', '1cqWaM1P2U6BP4rXqG0nNU', '6rr4BNXzy1acdGqNi7Od4V', '6UtOK8CVEsqABOeDiWYtO1', '1gjVm1sTScSwUYvYTaWSQ2', '4vhZyY5SYU6sVpWD1j49kZ', '4fZdF3jxizXvCcwnn4wmiG', '1HodmVk7lRNH2ZJbBfJKNl', '1pel220SmJb1ZS1fivDYjs', '5KeBjYTAazWkb7HbGX5X2Q', '5OZMQqLYZFVX60R0qfg2xH', '0dR9ZZnkSbd1Zz21sWv0m7', '4ObUFZyyivqZ3iHNluSMuA', '1WIrZFULRZqQNSQ5ZbhxFh', '4VHyzKjm26vLvcDrCCl2fn', '33eQhjifDDcaiTwutBOALd', '17zEHu8ND8YxTkkVXQNdKh', '4jXPODTLilYQB0aZBNmOT7', '44CuSFax5xmuCt10LBp5Is', '0Q3Rq67PbbsR2fOTPgRTNP', '6eMjiPDJAGnDchveV9lOEK', '78pEoh42xAoEHPT80udhAn', '7tfxVY7E59dh69PcdiKFew', '2kaL3vgZmTN6JoLNCdzrye', '3nrjVKwuA6Rc8loaHYrieK', '3I85Dkt31381CuI7Wc2ZWl', '0kjFFyfTnMYpowfKXz1bDc', '5D67sVOj4NIP6uFBOQQ3r5', '7INrxpCMVJ8q8lPLl6DVVl', '6p3d73wZEKUXGy134xMaD8', '4o12OsZH5WFiOcsmXI8vaV', '76WjoygGOBaG2vJjKrnpM9', '4WZAuguh2hvl8V7X2LXXeO', '47p0smgQON68RsM9BEn8BJ', '3DDBlotH54rahSwOFpvFG8', '4SH3BXGTsKnYKJmbwGknjV', '4VQ0z7ndFCB0UGlxOzqm6K', '2xBkSiGyTzJKRhWEcszgWT', '3xgoFu1LQU8GsMWSOTDZet', '3ctUm34qbymXou4zBC3KKF', '7lpLC2v4HwS0R1yrnHklKd', '46sIUwdJcmilSFoEBOkh5S', '2P7Usjyzuco3ZimAjbEAKI', '1q8LkBSzWYUOBMhfkb0a5P', '1YTcvaQu0bzmPSGWHF7nOJ', '0TNQz4tFShnCGay7jG4UKr', '7oG45St2le9gO3MuKBMHtE', '4mblCkwrttsr5S9HVdhNxh', '5MLr1jKRE9lxtakJMxYB3E', '3CnDZVliVM2mEngQw3mizH', '1vFxh4ZusSknFrnnTtZGvz', '5EuEqKCSUYgb2OgBLrCHnN', '6W0PF4irec9e7oaRdNnX8J', '2vTctWs1dUDEJuF2TV4Sx2', '2KuB5YIzrWkvwJrUXAq4jS', '5wvhg7XZlcbi6TDGIJBgf4', '2IMs9H14JWEc06AQwpTj9v', '6FKOsQHHuAgwYdqWuQBc2d', '5unxroWaogKaTCz8m9B9ZW', '5ViPxNBf84LWU5cGKi4YVh', '11yffLYWII03Jbug9kcPVh', '4f73Kq1KCD3sE2n27sRUvp', '4DLr8yPQGnVMIlP4RwvkIB', '3CBXbWUYyZYXLEGJGGVbNX', '0XJwECZRN1w1GkIYpdcran', '76Djxt0nK5jzBbHnXTShyA', '2yW7oJUOCJ1AKSMYcpuCcy', '3JYhPVErBoDvyM3BjFecDw', '5PBjVMVofpAZSqLtTm2swh', '4BHR9ERMwWIq2Ck3omKnAy', '2ff7vV5OJ4IKJoVESKC93N', '7x2w2FZXkpoHDw8THSTKEp', '201pLFcmUerf589QsRAtSI', '49hmVmCa9NsDLKtM74cR73', '7d5hUZAZQLn1U5ox3G4nJl', '7cnuuAfsXBfsxliTf1PPN9', '1tu1rKQkIKEttcdiiZgnlu', '3rfHriM8fRjCeda3R87KLO', '7anWgVQ4UjzOvFQQzdjnLs', '7vfmqCgxHFFgvZ8iZuwg1x', '6V5QuQ22HWO6RHxBHWym1r', '5zLluxbv1Zmtkfao6dkLxu', '1Gcrcphg45WsfGxOS1m6xM', '5vy62tqb4nqQs1oa7poXw5', '6MDUeRPUkD919qwFYdnLOu', '03TGkgSZrKQzhhTo9TLSlN', '4sIHQf8i7BHi8oG75ZH2lC', '1NQ0rHmJi9BJ5qZpFkAKY1', '1fWBkW0LHdWaCpT7L3GlQE', '0xi5hneHKCMavMN2BHT8Zm', '3fs7uakIzSHdZqJVRpBS28', '6TkTpODPwW7zLeKMUyyMCl', '6gnfk6fj9K9THxc8xCJ8cH', '5Q8WM9n4P1MpWEr0zDDuwT', '2C2dbVIyjInfUeeszTbViV', '7FsFza1ulLCB80BWCTi1qq', '2DEb3nV3J5VcHxOqJswBsw', '1Vr0f3U7E65SGNAUG8Z9BQ', '2AHlVmFdN96QYof1sGVysD', '4DvLUrFaLFOZKTRg7cAivY', '4sLe4GV1HqGvz568fzoznC', '5RkfHaNCJw56JSfkla3IRy', '13RDssfmd7fG5Wfq0pzMfm', '3DDtT1pO2QdIAFXt2Cs5fD', '1ZoXDI0pLn9uVAYiPDNwS5', '3GuRXgBjunUhKaBnULrR4z', '0TB259lM8DqDZZv3sdYrti', '20dQu5qyeuCjTtsyjEVeNd', '48ZSDwJj7LujZYX90Abzc7', '31kwW6b51afw0oYf4oWcLP', '1JHSE6VvXWzNnSuRcCArs4', '2xAB5Ibbi1DUCrDUAAkOUz', '4cmAVKpjpwnqh7qfM1J98U', '6QQ9MS99cimuEVOhSXe1lT', '4RdozeMfAGt6DfD01E1tXf', '0gevuqh9dBP3C1kAZNm4tl', '0kbAnu2jaKwFNZE6aiZnR1', '3ohr9sEUOrGrAESO1nZIEY', '3qWTU1b9GaWdPUQnukQma7', '3S10wlTsmsgcCQCkh7hjsY', '3g7SKjCYKF2qgkFD56x9wX', '7q9PubJoxNs7epUUXyeVUy', '3S7QaZDPqc14xWObHGVfyk', '5gedUO3f3879Xkfe1iBWqP', '03Nft1PbiGRRK5ao7is8TI', '61IiZswJIeAEJ6AmtgBPUx', '1RCXojc7suz43jxiNT8b6q', '3GVkbWGTvCELZ7nyetd8un', '4L9ytdgFvn3RDPKJWISXKi', '6ArmujTTrn9iIXlanev3DU', '2y4sTfHOcK7zJ7zOzzxzLK', '1N51VH64K6cMkZUmtkgbEw', '0L53sv30fDsaZ0ANheeKGn', '5A6OlQjl2RukbVP7HEWFTu', '3O71ycU88PbbWFfLv0Wuzl', '0W0AXGYoKUvoho7rEQEFyi', '41YJcPDRRNfGtNVxnMVTzg', '5DSe4hZPLHeuinJLBu0tuU', '3qMILixG7u8MsVAdqoXCCg', '06wa3OMNyDv3nxArMl9SoQ', '2bnUP1Vp8hHcSBwXh5l6iQ', '4rjFzxfzzal0iEkASU3vkE', '7uwc7fSvKUvX2CWmVUkaN9', '2Tf2r9fshc68SstkIwu6ZV', '46kTmmZ5d3ZQ4hFjgijQY0', '06ekPvgI8rYjdgSaCuVmna', '4wMm2KcODZgqPhR3cjYyHN', '5EqlTwQatVlDUqYRMUtKkz', '2jnDs1WCwBb0v1k2O3XuiT', '6089zRj4TeT2G7XBqc93Lu', '2dCQh7lNnTfCZp2UtJQbxN', '2kaMXWrnEJKgvZUepCGdDl', '2AnPt6HBq6v4B05qJcZDDV', '43KXoN33EmseRpkkYDpIHb', '0RyeIOHa2ffZCpnM9DPHBI', '2hUbfs0qRxAvee2XUqDYX8', '11LcYhRr6bl09WbFQo9vB9', '4whY43hyzvwaoYG3HDp8nh', '7fhpcnukCWQW20Z4Sn3GxM', '1PYPywmduEH6fbSV0fuH2L', '7FzyxIwXHTwvbJHpVkQraX', '2myKEJfqBSrGmfhdJfuObq', '5qk9Gel29OiI9WCGAj0kDi', '5aezqs9pkrEvCxmKYHhuqN', '53MaOPNlZs0kY3dNyKrKgJ', '3MTkELIv7cMxD8SAyv1HRi', '1KfzEzWWNqPXgCvOHFgLqk', '42RVzlKIkoJHFy6SEsMHhh', '3EPS04g1BtN0R0ew12rQsP', '0zPN75yyrZzElSUvAyvDk0', '3Cp2NonkEcyWQJVWDgNpcZ', '4eiuGymX8GqQugT28aSaMb', '2DBI1hwN7ut59cGtzahemI', '5hIbFCg3rpAb7vDC8ulm6W', '3HOqSHmTL7i9n4Wt8BH7AU', '682f3CMpGt3vQL3qcYDRlp', '4okS8DyY9oVhQVDYkOQOvR', '7zR72NPisVTWmeYpep2kK0', '2lPz3IlxnQKa9qZT9dALxU', '4vMjRw3janGfBgzn3XlSWc', '08RuW0KrFcd0mola4bOqHJ', '2BilGkXcFBHkLkeD2FwfVk', '3Ai3WW6EtnOIzHTzMhaKtc', '2djjzAF8xwKiPqYIpVRCUq', '6GuPdjEWaaov8OHV7zMDtr', '5KjozHkLV7BHulRsnDnHDh', '5iKYaUi2D34LuD0z6Jtwr0', '6z8VNKZSd6RO6SpPF0UgrM', '6WOzbMCmi9eeMiFjTsQGWZ', '6gsVRZsMGJLbAzSeWWI0cj', '1X4KKgM0CFi9oE6xCnRGnD', '5EgwsTGAxB1Nu0Nb9QyoV4', '4NCW6KO4oSA4PZvZcBw2aW', '5zfPo9xqVuuolmSaHORCHE', '6ug6NqjewwG645D0KkwESr', '4y9tFj8NKDIy9R9JweK5Bg', '0b4uMWOPb4FlwTV7wIdpK2', '0TwgQ5Ar25JcWhR6IIPYWE', '6LL39VNkfsoBZaosVKTa9H', '3llVLY5DlS2T9aiWQy0ej4', '5stMVGgFCK1Z3i6fc03WU1', '6fnWrMkfILOCvPvOfpctPS', '0mvLV77VhirUUHfmLz0gjk', '7ciqdnRaFWxDAWq59u5NsP', '4xI66h9fFjzCQ4Way3mZ0k', '6M3ns98ni5fTBq1b9UEE5m', '7aGcg5QvVW4WYzQNNVoNZX', '79I8X0GoAp2ccB5JyyCkQi', '1ObdNj2NxOh0tM32Prm2ZJ', '7CeQ79utozLOnkPcXGWwrE', '6GBbZwwPdeqgqOeOFRUJKM', '4vJ4hoWmpMLLN06JOYaxxf', '3KgfP057xLArErBmLJNYBl', '1DikcBVaeqYvu9oGOntd6q', '0yezMfv6OkkCdi7QThLYIH', '2ILDAMKZ3SjqvBkowjNG6r', '2Iqw1wrr231BOEB2yveuzM', '5hawkwz2PDzdbfIiJzbXgD', '4h0Qr8p58Jf5mghrpEMsI0', '4uPXTZnmkxsVQfdYMAMoDM', '0zPNphFt2joUP0UhutgtVp', '1RKHFGoFVOHUO8uPP2h4ru', '41TS425bszmKaOZZNPcaKc', '4aWtJbM6J00KmdEuMeZRNY', '7gjkkodVPxvo4FY3P8dGXc', '2w5Lfj882j3gOXwwcBnJAd', '4tASXfexFzTumjMqvclA5r', '4nBJFlp40re4LZQ1I5VYFT', '0kOkshmPGscQ964maLq8eI', '16gAxMbSdZejzw4oJeIyo1', '77AaBhN34s5OQERspZwdJy', '5Nk2AYaiiH8zJbaDi3f7mw', '1qd8HyuAIcE6NDRJ1XwG5h', '5BDKr7j4WUfzC3DswjoN6v', '4hWTWmHxYbJ7lDGFM097tT', '1THDIZA4dsdOQFMaUckPHv', '314OqXv5qFhChsC6exEnn5', '1hzme7nCn66cS3BcaUB8Nq', '3U15YcwKkkAvQBDf78DuFi', '3NskZNFObyS01pI0zTVGts', '3rId4pmKQnGeyO1hzzwzLV', '0T2Sdr12MB83t7e2asmqi0', '2MpQ2FlW8qIAjBOSmSTrc7', '0LBMIAKsb2wYUL35cA5ord', '0cwealcvftIKDBFJh1X014', '2pwAh6lleIurU1tGDPzHmn', '3nTvRGKQbbwqYGeGAUwkIu', '4TS4WEyyKIo0hAQMUCYch3', '4CFMMi4J6Rf10HsswGk0F8', '56bs0TN7TAjyDknw2zbso5', '21B36Q7TVnLqmqOHysck2G', '5dCLQwn06LfAMhb3PaSAgz', '4AsL0IojwYCUzj1NwOwe3G', '0BpMGMYlmfZVoxHBTOCvAS', '1zB368tdm8YFAKAtTUpD6g', '1rBeyULSxLfVeRZl7eVfgS', '3bBQkTq001JTATN3Behm7Y', '45F7vXFL3BIiuB0rGXhk49', '0sj1sZ2ioRxBSkEyYWenjs', '61HorwP5JbwKz8eKDXJ10P', '2WJgaUIPf7vLS7eG6nDZYx', '0dcBcEM6zL2kJpY6BsitiH', '4y3l0zgqeoSROELQ77WRNL', '6gVkQ1xIsdmHyCzX3DHR7O', '5pvDSQubCJGtImhgUu42ne', '77Nb0Et9nIDXOqUFOXuo0K', '2otO0NDIW2EJ0Lwn5MealM', '5MrkdoTLISAcSaEt8QjulO', '05KIDuW9Gt9jVIVNA0jUX8', '3LLKfHpivnFPXeuQdzl2Jy', '2nfykKRe68KRfeFun2yvkj', '4pvCDXyxdU2IgkMZ2Oi2iL', '2Ua60jsbnrqHFSoNjXLliD', '4jfQXkkmoY9GUx5fYFK2Ev', '103ZpuEhDF8z2ec3SSQvf6', '2h157ScmkivKzfjvKbloUS', '4nkPQFfGx8id6nJy6RsQzy', '3xJIiemYFvQ7ioEj5Yn2j8', '2TaPrDwvidGwLLGUhTOOjb', '3BZg2DgAH6745dGQ9HBl0O', '5Zzz3MAcZ8qJG3RToPbuws', '1Swe4Pdh90VvuvJosNduNU', '1doraUVplW0ejHR10A5C21', '37JQzsOq9o6r7TesqLzXbg', '1hAm9DH58hVz9qPXYRyso9', '42HEcqqhxKXMBtJzgVp9T1', '47sQLuQsDjXHPtn60Webcf', '6bwPLahcrDPaQA8yvvU0lt']\n"
     ]
    }
   ],
   "source": [
    "import time\n",
    "import requests\n",
    "\n",
    "def safe_request(url, headers, params, max_retries=20):\n",
    "    retry_wait = 1\n",
    "    for i in range(max_retries):\n",
    "        response = requests.get(url, headers=headers, params=params)\n",
    "        if response.status_code == 200:\n",
    "            return response\n",
    "        elif response.status_code == 429:\n",
    "            retry_after = int(response.headers.get('Retry-After', retry_wait))\n",
    "            print(f\"Rate limit exceeded, retrying after {retry_after} seconds...\")\n",
    "            time.sleep(retry_after)\n",
    "            retry_wait *= 2 \n",
    "        else:\n",
    "            response.raise_for_status()\n",
    "    raise Exception(\"Max retries exceeded\")\n",
    "\n",
    "def search_tracks_by_genre(access_token, genre, limit=50, max_retries = 10):\n",
    "    url = \"https://api.spotify.com/v1/search\"\n",
    "    track_ids = []\n",
    "    offset = 0\n",
    "\n",
    "    while len(track_ids) < 500:\n",
    "        query_params = {\n",
    "            \"q\": f\"genre:{genre}\",\n",
    "            \"type\": \"track\",\n",
    "            \"limit\": limit,\n",
    "            \"offset\": offset\n",
    "        }\n",
    "        headers = {\"Authorization\": f\"Bearer {access_token}\"}\n",
    "        \n",
    "        response = safe_request(url, headers=headers, params=query_params)\n",
    "        data = response.json()\n",
    "        tracks = data.get('tracks', {}).get('items', [])\n",
    "        \n",
    "        if not tracks:\n",
    "            break\n",
    "\n",
    "        for track in tracks:\n",
    "            track_ids.append(track['id'])\n",
    "        \n",
    "        offset += limit\n",
    "        if len(tracks) < limit:\n",
    "            break\n",
    "\n",
    "    return track_ids\n",
    "\n",
    "genre = 'jazz'\n",
    "track_ids = search_tracks_by_genre(access_token, genre)\n",
    "print(len(track_ids), \"tracks found for genre:\", genre)\n",
    "print(track_ids)\n"
   ]
  },
  {
   "cell_type": "code",
   "execution_count": null,
   "metadata": {},
   "outputs": [],
   "source": []
  }
 ],
 "metadata": {
  "kernelspec": {
   "display_name": "thesis_env",
   "language": "python",
   "name": "python3"
  },
  "language_info": {
   "codemirror_mode": {
    "name": "ipython",
    "version": 3
   },
   "file_extension": ".py",
   "mimetype": "text/x-python",
   "name": "python",
   "nbconvert_exporter": "python",
   "pygments_lexer": "ipython3",
   "version": "3.8.18"
  },
  "orig_nbformat": 4,
  "vscode": {
   "interpreter": {
    "hash": "b7ab3b8cf9fec3ee533b1070036c9e0a2f944c6b874fa15e1a468d30a0d9557a"
   }
  }
 },
 "nbformat": 4,
 "nbformat_minor": 2
}
