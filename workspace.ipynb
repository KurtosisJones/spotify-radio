{
 "cells": [
  {
   "cell_type": "code",
   "execution_count": 3,
   "metadata": {},
   "outputs": [
    {
     "data": {
      "text/plain": [
       "True"
      ]
     },
     "execution_count": 3,
     "metadata": {},
     "output_type": "execute_result"
    }
   ],
   "source": [
    "from dotenv import load_dotenv\n",
    "import os\n",
    "import requests\n",
    "\n",
    "load_dotenv()"
   ]
  },
  {
   "cell_type": "code",
   "execution_count": 8,
   "metadata": {},
   "outputs": [],
   "source": [
    "spotify_id = os.getenv('SPOTIFY_ID')\n",
    "spotify_key = os.getenv('SPOTIFY_TOKEN')"
   ]
  },
  {
   "cell_type": "code",
   "execution_count": 9,
   "metadata": {},
   "outputs": [],
   "source": [
    "import requests\n",
    "from base64 import b64encode\n",
    "\n",
    "def get_spotify_token(client_id, client_secret):\n",
    "    # Encode as Base64\n",
    "    credentials = b64encode(f\"{client_id}:{client_secret}\".encode()).decode('utf-8')\n",
    "\n",
    "    headers = {\n",
    "        \"Authorization\": f\"Basic {credentials}\"\n",
    "    }\n",
    "\n",
    "    body = {\n",
    "        \"grant_type\": \"client_credentials\"\n",
    "    }\n",
    "\n",
    "    token_url = \"https://accounts.spotify.com/api/token\"\n",
    "    response = requests.post(token_url, headers=headers, data=body)\n",
    "    response_data = response.json()\n",
    "    return response_data['access_token']\n",
    "\n",
    "access_token = get_spotify_token(spotify_id, spotify_key)"
   ]
  },
  {
   "cell_type": "code",
   "execution_count": 15,
   "metadata": {},
   "outputs": [],
   "source": [
    "headers = {\n",
    "    \"Authorization\": f\"Bearer {access_token}\",\n",
    "    \"Content-Type\": \"application/json\"\n",
    "}\n",
    "id=\"11dFghVXANMlKmJXsNCbNl\"\n",
    "endpoint = f\"https://api.spotify.com/v1/audio-features/{id}\""
   ]
  },
  {
   "cell_type": "code",
   "execution_count": 16,
   "metadata": {},
   "outputs": [],
   "source": [
    "response = requests.get(endpoint, headers=headers)\n"
   ]
  },
  {
   "cell_type": "code",
   "execution_count": 17,
   "metadata": {},
   "outputs": [
    {
     "data": {
      "text/plain": [
       "{'danceability': 0.696,\n",
       " 'energy': 0.905,\n",
       " 'key': 2,\n",
       " 'loudness': -2.743,\n",
       " 'mode': 1,\n",
       " 'speechiness': 0.103,\n",
       " 'acousticness': 0.011,\n",
       " 'instrumentalness': 0.000905,\n",
       " 'liveness': 0.302,\n",
       " 'valence': 0.625,\n",
       " 'tempo': 114.944,\n",
       " 'type': 'audio_features',\n",
       " 'id': '11dFghVXANMlKmJXsNCbNl',\n",
       " 'uri': 'spotify:track:11dFghVXANMlKmJXsNCbNl',\n",
       " 'track_href': 'https://api.spotify.com/v1/tracks/11dFghVXANMlKmJXsNCbNl',\n",
       " 'analysis_url': 'https://api.spotify.com/v1/audio-analysis/11dFghVXANMlKmJXsNCbNl',\n",
       " 'duration_ms': 207960,\n",
       " 'time_signature': 4}"
      ]
     },
     "execution_count": 17,
     "metadata": {},
     "output_type": "execute_result"
    }
   ],
   "source": [
    "response.json()"
   ]
  },
  {
   "cell_type": "code",
   "execution_count": null,
   "metadata": {},
   "outputs": [],
   "source": [
    "def search_tracks_by_genre(access_token, genre, limit=50):\n",
    "    url = \"https://api.spotify.com/v1/search\"\n",
    "    track_ids = []\n",
    "    offset = 0\n",
    "\n",
    "    while len(track_ids) < 500:\n",
    "        query_params = {\n",
    "            \"q\": f\"genre:{genre}\",\n",
    "            \"type\": \"track\",\n",
    "            \"limit\": limit,\n",
    "            \"offset\": offset\n",
    "        }\n",
    "        headers = {\"Authorization\": f\"Bearer {access_token}\"}\n",
    "        response = requests.get(url, headers=headers, params=query_params)\n",
    "        data = response.json()\n",
    "        tracks = data.get('tracks', {}).get('items', [])\n",
    "        \n",
    "        if not tracks:\n",
    "            break\n",
    "\n",
    "        for track in tracks:\n",
    "            track_ids.append(track['id'])\n",
    "        \n",
    "        offset += limit\n",
    "        if len(tracks) < limit:\n",
    "            break\n",
    "\n",
    "    return track_ids\n",
    "\n",
    "genre = 'jazz'\n",
    "track_ids = search_tracks_by_genre(access_token, genre)\n",
    "print(len(track_ids), \"tracks found for genre:\", genre)\n",
    "print(track_ids)\n"
   ]
  },
  {
   "cell_type": "code",
   "execution_count": null,
   "metadata": {},
   "outputs": [],
   "source": []
  }
 ],
 "metadata": {
  "kernelspec": {
   "display_name": "thesis_env",
   "language": "python",
   "name": "python3"
  },
  "language_info": {
   "codemirror_mode": {
    "name": "ipython",
    "version": 3
   },
   "file_extension": ".py",
   "mimetype": "text/x-python",
   "name": "python",
   "nbconvert_exporter": "python",
   "pygments_lexer": "ipython3",
   "version": "3.8.18"
  },
  "orig_nbformat": 4,
  "vscode": {
   "interpreter": {
    "hash": "b7ab3b8cf9fec3ee533b1070036c9e0a2f944c6b874fa15e1a468d30a0d9557a"
   }
  }
 },
 "nbformat": 4,
 "nbformat_minor": 2
}
