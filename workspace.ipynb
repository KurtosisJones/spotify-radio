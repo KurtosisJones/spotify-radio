{
 "cells": [
  {
   "cell_type": "code",
   "execution_count": 3,
   "metadata": {},
   "outputs": [
    {
     "data": {
      "text/plain": [
       "True"
      ]
     },
     "execution_count": 3,
     "metadata": {},
     "output_type": "execute_result"
    }
   ],
   "source": [
    "from dotenv import load_dotenv\n",
    "import os\n",
    "import requests\n",
    "\n",
    "load_dotenv()"
   ]
  },
  {
   "cell_type": "code",
   "execution_count": 74,
   "metadata": {},
   "outputs": [],
   "source": [
    "spotify_id = os.getenv('SPOTIFY_ID')\n",
    "spotify_key = os.getenv('SPOTIFY_TOKEN')"
   ]
  },
  {
   "cell_type": "code",
   "execution_count": 91,
   "metadata": {},
   "outputs": [],
   "source": []
  },
  {
   "cell_type": "code",
   "execution_count": 92,
   "metadata": {},
   "outputs": [],
   "source": [
    "headers = {\n",
    "    \"Authorization\": f\"Bearer {access_token}\",\n",
    "    \"Content-Type\": \"application/json\"\n",
    "}\n",
    "id=\"11dFghVXANMlKmJXsNCbNl\"\n",
    "endpoint = f\"https://api.spotify.com/v1/audio-features/{id}\""
   ]
  },
  {
   "cell_type": "code",
   "execution_count": 93,
   "metadata": {},
   "outputs": [],
   "source": [
    "response = requests.get(endpoint, headers=headers)\n"
   ]
  },
  {
   "cell_type": "code",
   "execution_count": 94,
   "metadata": {},
   "outputs": [
    {
     "name": "stdout",
     "output_type": "stream",
     "text": [
      "None\n"
     ]
    }
   ],
   "source": [
    "print(response.headers.get('Retry-After'))"
   ]
  },
  {
   "cell_type": "code",
   "execution_count": 95,
   "metadata": {},
   "outputs": [
    {
     "data": {
      "text/plain": [
       "{'error': {'status': 429}}"
      ]
     },
     "execution_count": 95,
     "metadata": {},
     "output_type": "execute_result"
    }
   ],
   "source": [
    "response.json()"
   ]
  },
  {
   "cell_type": "code",
   "execution_count": 96,
   "metadata": {},
   "outputs": [],
   "source": []
  },
  {
   "cell_type": "code",
   "execution_count": 65,
   "metadata": {},
   "outputs": [],
   "source": [
    "import json\n",
    "\n",
    "with open(\"music_genres.json\", \"r\") as af:\n",
    "    genres = json.load(af)"
   ]
  },
  {
   "cell_type": "code",
   "execution_count": 66,
   "metadata": {},
   "outputs": [],
   "source": [
    "complete_track_list = []\n",
    "\n",
    "for genre in genres[\"music_genres\"][0:4]: # add limit to make this a simple initial task\n",
    "    complete_track_list.extend(search_tracks_by_genre(access_token, genre))"
   ]
  },
  {
   "cell_type": "code",
   "execution_count": 67,
   "metadata": {},
   "outputs": [],
   "source": [
    "with open(\"track_ids.json\", \"w\") as af:\n",
    "    af.write(json.dumps({\"track_ids\": complete_track_list}))"
   ]
  },
  {
   "cell_type": "code",
   "execution_count": 68,
   "metadata": {},
   "outputs": [],
   "source": [
    "with open(\"track_ids.json\", \"r\") as af:\n",
    "    track_list = json.load(af)"
   ]
  },
  {
   "cell_type": "code",
   "execution_count": 69,
   "metadata": {},
   "outputs": [],
   "source": [
    "complete_track_list = track_list[\"track_ids\"]"
   ]
  },
  {
   "cell_type": "code",
   "execution_count": 97,
   "metadata": {},
   "outputs": [
    {
     "name": "stdout",
     "output_type": "stream",
     "text": [
      "url='https://api.spotify.com/v1/audio-analysis?ids=2bQarhW0eXpUO2g5a4ncZp,6Y1sT1W7ATUhgIyuB6fd2P,7xKPrsvnyVn0fEDmHHV4SF,47NXyPVI1qgz5ThcyiBM8I,5YWQlCqgPpyeZ17a9eqgZa,7M62Hqghz8osQILzAIJWaP,69S4fitMHVrVgbk8WZcPsZ,0y3ZRDYRDDMrbatpvhqZ1r,65P3IBgRj9aO0wQfmXzxW1,1pjwVLK6IE5oAZ9WSmlmm9,4AFb7GPWT2osksulSs7qjf,6rwsduqKvGn30R3J1FL6hK,4tFiDHBcVUkFWW5wc7Ry9M,7sOuqN865ZVObRS3LfwHzs,0UFeSZvYbUPZVeHCo3SNF3,0OJ6vKdJ71hAeqfzZ701pQ,7MsbXbQN2xc4NSuodDqIc4,7sblnXksCahIgUAdX1aTPy,7KO2Lk9X5Eb4RIaUutW5DL,1otUiIpY2QekoZwcPJtVbL,5qFl7PkUlDijgWksSyFIFg,4NSYEUdBPPBjIaPHIMPqdN,2Fr0zC0wKX01X7LSOMeVLr,6mtLysLyNyfWbr58nfqMV1,4ZiZDc0NIrrGTv3SNOMqZ3,3iulr03RqyQBDJItsaR46e,5f09cMt7yfm8DPKAHRFOXS,05XhneYOozrRUuw3hdaYFu,6VFcqDx6hFv6lSylQaNr42,5cgbLlOQNOQZkU5af0Aict,1hecBi6qXM8bjTPnJjr205,3o0pDrsaLubIoRSSeS3fTO,1RaUezq8CWuRubSda1HaLP,5qVPF3mjUkGSLda9ISeWjF,7zxym1sT9lcnmQ8ojqSqc4,33xo5xX9T7EQSAGsFfhBlH,4SepgeUrKPOwvpURr0aHMP,5362HePURJTQuNtFjyDmuM,0rGRq785D2i84ToyKgQMBR,7vLHGc0XlJoSmaOV4Grwql,6eWIJTgrEBJPs5quLHwde0,0Z5mEGteOOMEwYhhwBCP5A,1AEFUeI8JLlkjASAuWigsL,2TxZ8JAypBhn7GWyzwX4hR,1eMSw6nnhEhI2W5KfYcezB,50U3nhrdpOXJhbjxbo9T2i,3V8hGn7ZhRjBnksOA2Zwqj,5ibD44M1XGm6LqrtioXW1h,752FtjGu4SuHIli9MrSrsz,01lvRtFPB51Sa3EzXKbH79,29Wy7s15PFxUc6NlCxHF3B,2yWQzGOY2O17z7GkDurBEB,7I1VDPeYO1Q77yj8A3fSDK,5GOonYOwtKeWrfiJGXTWCZ,3AEQiKTeJhZQ2tOt0Lh4t4,36C99s0QSGHaQrpInbBckc,6hg1lbPBWBZQKvjlskAis1,6ONS6lbHi6uNjbXOnLUkxT,2Cp4H0FIb86VbwQPdSel0t,3yhSgLtRtYHea762DLyoAe,6ox2oCkpcEMxgswQZAjKKx,3c0KfxmJa45ErZejThLxYF,1ThtUG9FXJDRsncLoj698z,1AFFBLMammmT9QF9EaHabq,1mVJx3J5jOMbrVgS7jCaKK,6IyY9GJs19oTieQGYEENfw,68c718Y0Az00bjUgjzLl2i,40YBqfbKlYh55wvKrJvqmm,1ogylrdc3PxCnriGsNNAcw,1QJtefDTLEOiM3fXMRBByB,27j8eY8tbNHN4RYgO9wXcj,2eKXBDzfmY1I1TYPx1zk6g,0wIuduEkOWCFrWZUxVC1lY,4UvwXOGb1J39WUutrlXwTF,20vI8y54qUlPLGBbYWAJeq,6Gz636zVLn1zTiNM7sfERp,6A01kecGAZUNsEufsg8Fvj,5KcRnGVJt5UGtsTwYlG5qJ,3XFqT4EXnULQJobG9eilN0,4ADBECleY1W07PUKeKbsBN,6kdbmxs4hLdlqEm96HitTu,2fSskez8whLr8b1EAx8bkG,765yQbOzD7C0TZHbi6PCpu,0xWQYnsNl1df1AXqGQiPBA,00XkoyPrNWezkad1IYW4iV,1dQNzo7Avk2rJzHH642rX5,2slEt181VugnNBpZqb5Mlp,3hWPgwii27M4aKc1SoLF1u,5y5lTayhyzzdtIkAOHyIw3,7e71sSLD3KOYstj0X2Gqjz,0nhwoo9igFU8s1l8sI3nNQ,6ePgBo6IJsEbiwCYqmu1M6,4d4lkdQsrVDWy8HMIKDlpN,5FqMOMjTDrVv3IIKDKRXPs,2O9c6vcQj3CWMoPM2tEeVl,7aQstJPyQ2Gpv629i38jxD,6fxkMXFkUENtnhwcw4PYAB,2xjggQFEs0yYm6Hvo71l7w,5yK6tgdZ0JRTc9826gGcYD,3XBCUofERh5vvrWBSh6353'\n"
     ]
    },
    {
     "ename": "HTTPError",
     "evalue": "404 Client Error: Not Found for url: https://api.spotify.com/v1/audio-analysis?ids=2bQarhW0eXpUO2g5a4ncZp,6Y1sT1W7ATUhgIyuB6fd2P,7xKPrsvnyVn0fEDmHHV4SF,47NXyPVI1qgz5ThcyiBM8I,5YWQlCqgPpyeZ17a9eqgZa,7M62Hqghz8osQILzAIJWaP,69S4fitMHVrVgbk8WZcPsZ,0y3ZRDYRDDMrbatpvhqZ1r,65P3IBgRj9aO0wQfmXzxW1,1pjwVLK6IE5oAZ9WSmlmm9,4AFb7GPWT2osksulSs7qjf,6rwsduqKvGn30R3J1FL6hK,4tFiDHBcVUkFWW5wc7Ry9M,7sOuqN865ZVObRS3LfwHzs,0UFeSZvYbUPZVeHCo3SNF3,0OJ6vKdJ71hAeqfzZ701pQ,7MsbXbQN2xc4NSuodDqIc4,7sblnXksCahIgUAdX1aTPy,7KO2Lk9X5Eb4RIaUutW5DL,1otUiIpY2QekoZwcPJtVbL,5qFl7PkUlDijgWksSyFIFg,4NSYEUdBPPBjIaPHIMPqdN,2Fr0zC0wKX01X7LSOMeVLr,6mtLysLyNyfWbr58nfqMV1,4ZiZDc0NIrrGTv3SNOMqZ3,3iulr03RqyQBDJItsaR46e,5f09cMt7yfm8DPKAHRFOXS,05XhneYOozrRUuw3hdaYFu,6VFcqDx6hFv6lSylQaNr42,5cgbLlOQNOQZkU5af0Aict,1hecBi6qXM8bjTPnJjr205,3o0pDrsaLubIoRSSeS3fTO,1RaUezq8CWuRubSda1HaLP,5qVPF3mjUkGSLda9ISeWjF,7zxym1sT9lcnmQ8ojqSqc4,33xo5xX9T7EQSAGsFfhBlH,4SepgeUrKPOwvpURr0aHMP,5362HePURJTQuNtFjyDmuM,0rGRq785D2i84ToyKgQMBR,7vLHGc0XlJoSmaOV4Grwql,6eWIJTgrEBJPs5quLHwde0,0Z5mEGteOOMEwYhhwBCP5A,1AEFUeI8JLlkjASAuWigsL,2TxZ8JAypBhn7GWyzwX4hR,1eMSw6nnhEhI2W5KfYcezB,50U3nhrdpOXJhbjxbo9T2i,3V8hGn7ZhRjBnksOA2Zwqj,5ibD44M1XGm6LqrtioXW1h,752FtjGu4SuHIli9MrSrsz,01lvRtFPB51Sa3EzXKbH79,29Wy7s15PFxUc6NlCxHF3B,2yWQzGOY2O17z7GkDurBEB,7I1VDPeYO1Q77yj8A3fSDK,5GOonYOwtKeWrfiJGXTWCZ,3AEQiKTeJhZQ2tOt0Lh4t4,36C99s0QSGHaQrpInbBckc,6hg1lbPBWBZQKvjlskAis1,6ONS6lbHi6uNjbXOnLUkxT,2Cp4H0FIb86VbwQPdSel0t,3yhSgLtRtYHea762DLyoAe,6ox2oCkpcEMxgswQZAjKKx,3c0KfxmJa45ErZejThLxYF,1ThtUG9FXJDRsncLoj698z,1AFFBLMammmT9QF9EaHabq,1mVJx3J5jOMbrVgS7jCaKK,6IyY9GJs19oTieQGYEENfw,68c718Y0Az00bjUgjzLl2i,40YBqfbKlYh55wvKrJvqmm,1ogylrdc3PxCnriGsNNAcw,1QJtefDTLEOiM3fXMRBByB,27j8eY8tbNHN4RYgO9wXcj,2eKXBDzfmY1I1TYPx1zk6g,0wIuduEkOWCFrWZUxVC1lY,4UvwXOGb1J39WUutrlXwTF,20vI8y54qUlPLGBbYWAJeq,6Gz636zVLn1zTiNM7sfERp,6A01kecGAZUNsEufsg8Fvj,5KcRnGVJt5UGtsTwYlG5qJ,3XFqT4EXnULQJobG9eilN0,4ADBECleY1W07PUKeKbsBN,6kdbmxs4hLdlqEm96HitTu,2fSskez8whLr8b1EAx8bkG,765yQbOzD7C0TZHbi6PCpu,0xWQYnsNl1df1AXqGQiPBA,00XkoyPrNWezkad1IYW4iV,1dQNzo7Avk2rJzHH642rX5,2slEt181VugnNBpZqb5Mlp,3hWPgwii27M4aKc1SoLF1u,5y5lTayhyzzdtIkAOHyIw3,7e71sSLD3KOYstj0X2Gqjz,0nhwoo9igFU8s1l8sI3nNQ,6ePgBo6IJsEbiwCYqmu1M6,4d4lkdQsrVDWy8HMIKDlpN,5FqMOMjTDrVv3IIKDKRXPs,2O9c6vcQj3CWMoPM2tEeVl,7aQstJPyQ2Gpv629i38jxD,6fxkMXFkUENtnhwcw4PYAB,2xjggQFEs0yYm6Hvo71l7w,5yK6tgdZ0JRTc9826gGcYD,3XBCUofERh5vvrWBSh6353",
     "output_type": "error",
     "traceback": [
      "\u001b[0;31m---------------------------------------------------------------------------\u001b[0m",
      "\u001b[0;31mHTTPError\u001b[0m                                 Traceback (most recent call last)",
      "Cell \u001b[0;32mIn[97], line 2\u001b[0m\n\u001b[1;32m      1\u001b[0m \u001b[39m# Rate limit on this endpoint is crazy\u001b[39;00m\n\u001b[0;32m----> 2\u001b[0m audio_feature_list \u001b[39m=\u001b[39m get_audio_features_by_id(access_token, complete_track_list)\n",
      "Cell \u001b[0;32mIn[96], line 61\u001b[0m, in \u001b[0;36mget_audio_features_by_id\u001b[0;34m(access_token, track_ids)\u001b[0m\n\u001b[1;32m     58\u001b[0m headers \u001b[39m=\u001b[39m {\u001b[39m\"\u001b[39m\u001b[39mAuthorization\u001b[39m\u001b[39m\"\u001b[39m: \u001b[39mf\u001b[39m\u001b[39m\"\u001b[39m\u001b[39mBearer \u001b[39m\u001b[39m{\u001b[39;00maccess_token\u001b[39m}\u001b[39;00m\u001b[39m\"\u001b[39m}\n\u001b[1;32m     60\u001b[0m \u001b[39mprint\u001b[39m(\u001b[39mf\u001b[39m\u001b[39m\"\u001b[39m\u001b[39m{\u001b[39;00murl\u001b[39m=}\u001b[39;00m\u001b[39m\"\u001b[39m)\n\u001b[0;32m---> 61\u001b[0m response \u001b[39m=\u001b[39m safe_request(url, headers\u001b[39m=\u001b[39;49mheaders)\n\u001b[1;32m     62\u001b[0m data \u001b[39m=\u001b[39m response\u001b[39m.\u001b[39mjson()\n\u001b[1;32m     64\u001b[0m \u001b[39mif\u001b[39;00m \u001b[39m'\u001b[39m\u001b[39merror\u001b[39m\u001b[39m'\u001b[39m \u001b[39min\u001b[39;00m data:\n",
      "Cell \u001b[0;32mIn[96], line 17\u001b[0m, in \u001b[0;36msafe_request\u001b[0;34m(url, headers, params, max_retries)\u001b[0m\n\u001b[1;32m     15\u001b[0m         retry_wait \u001b[39m*\u001b[39m\u001b[39m=\u001b[39m \u001b[39m2\u001b[39m \n\u001b[1;32m     16\u001b[0m     \u001b[39melse\u001b[39;00m:\n\u001b[0;32m---> 17\u001b[0m         response\u001b[39m.\u001b[39;49mraise_for_status()\n\u001b[1;32m     18\u001b[0m \u001b[39mraise\u001b[39;00m \u001b[39mException\u001b[39;00m(\u001b[39m\"\u001b[39m\u001b[39mMax retries exceeded\u001b[39m\u001b[39m\"\u001b[39m)\n",
      "File \u001b[0;32m~/opt/anaconda3/envs/thesis_env/lib/python3.8/site-packages/requests/models.py:1021\u001b[0m, in \u001b[0;36mResponse.raise_for_status\u001b[0;34m(self)\u001b[0m\n\u001b[1;32m   1016\u001b[0m     http_error_msg \u001b[39m=\u001b[39m (\n\u001b[1;32m   1017\u001b[0m         \u001b[39mf\u001b[39m\u001b[39m\"\u001b[39m\u001b[39m{\u001b[39;00m\u001b[39mself\u001b[39m\u001b[39m.\u001b[39mstatus_code\u001b[39m}\u001b[39;00m\u001b[39m Server Error: \u001b[39m\u001b[39m{\u001b[39;00mreason\u001b[39m}\u001b[39;00m\u001b[39m for url: \u001b[39m\u001b[39m{\u001b[39;00m\u001b[39mself\u001b[39m\u001b[39m.\u001b[39murl\u001b[39m}\u001b[39;00m\u001b[39m\"\u001b[39m\n\u001b[1;32m   1018\u001b[0m     )\n\u001b[1;32m   1020\u001b[0m \u001b[39mif\u001b[39;00m http_error_msg:\n\u001b[0;32m-> 1021\u001b[0m     \u001b[39mraise\u001b[39;00m HTTPError(http_error_msg, response\u001b[39m=\u001b[39m\u001b[39mself\u001b[39m)\n",
      "\u001b[0;31mHTTPError\u001b[0m: 404 Client Error: Not Found for url: https://api.spotify.com/v1/audio-analysis?ids=2bQarhW0eXpUO2g5a4ncZp,6Y1sT1W7ATUhgIyuB6fd2P,7xKPrsvnyVn0fEDmHHV4SF,47NXyPVI1qgz5ThcyiBM8I,5YWQlCqgPpyeZ17a9eqgZa,7M62Hqghz8osQILzAIJWaP,69S4fitMHVrVgbk8WZcPsZ,0y3ZRDYRDDMrbatpvhqZ1r,65P3IBgRj9aO0wQfmXzxW1,1pjwVLK6IE5oAZ9WSmlmm9,4AFb7GPWT2osksulSs7qjf,6rwsduqKvGn30R3J1FL6hK,4tFiDHBcVUkFWW5wc7Ry9M,7sOuqN865ZVObRS3LfwHzs,0UFeSZvYbUPZVeHCo3SNF3,0OJ6vKdJ71hAeqfzZ701pQ,7MsbXbQN2xc4NSuodDqIc4,7sblnXksCahIgUAdX1aTPy,7KO2Lk9X5Eb4RIaUutW5DL,1otUiIpY2QekoZwcPJtVbL,5qFl7PkUlDijgWksSyFIFg,4NSYEUdBPPBjIaPHIMPqdN,2Fr0zC0wKX01X7LSOMeVLr,6mtLysLyNyfWbr58nfqMV1,4ZiZDc0NIrrGTv3SNOMqZ3,3iulr03RqyQBDJItsaR46e,5f09cMt7yfm8DPKAHRFOXS,05XhneYOozrRUuw3hdaYFu,6VFcqDx6hFv6lSylQaNr42,5cgbLlOQNOQZkU5af0Aict,1hecBi6qXM8bjTPnJjr205,3o0pDrsaLubIoRSSeS3fTO,1RaUezq8CWuRubSda1HaLP,5qVPF3mjUkGSLda9ISeWjF,7zxym1sT9lcnmQ8ojqSqc4,33xo5xX9T7EQSAGsFfhBlH,4SepgeUrKPOwvpURr0aHMP,5362HePURJTQuNtFjyDmuM,0rGRq785D2i84ToyKgQMBR,7vLHGc0XlJoSmaOV4Grwql,6eWIJTgrEBJPs5quLHwde0,0Z5mEGteOOMEwYhhwBCP5A,1AEFUeI8JLlkjASAuWigsL,2TxZ8JAypBhn7GWyzwX4hR,1eMSw6nnhEhI2W5KfYcezB,50U3nhrdpOXJhbjxbo9T2i,3V8hGn7ZhRjBnksOA2Zwqj,5ibD44M1XGm6LqrtioXW1h,752FtjGu4SuHIli9MrSrsz,01lvRtFPB51Sa3EzXKbH79,29Wy7s15PFxUc6NlCxHF3B,2yWQzGOY2O17z7GkDurBEB,7I1VDPeYO1Q77yj8A3fSDK,5GOonYOwtKeWrfiJGXTWCZ,3AEQiKTeJhZQ2tOt0Lh4t4,36C99s0QSGHaQrpInbBckc,6hg1lbPBWBZQKvjlskAis1,6ONS6lbHi6uNjbXOnLUkxT,2Cp4H0FIb86VbwQPdSel0t,3yhSgLtRtYHea762DLyoAe,6ox2oCkpcEMxgswQZAjKKx,3c0KfxmJa45ErZejThLxYF,1ThtUG9FXJDRsncLoj698z,1AFFBLMammmT9QF9EaHabq,1mVJx3J5jOMbrVgS7jCaKK,6IyY9GJs19oTieQGYEENfw,68c718Y0Az00bjUgjzLl2i,40YBqfbKlYh55wvKrJvqmm,1ogylrdc3PxCnriGsNNAcw,1QJtefDTLEOiM3fXMRBByB,27j8eY8tbNHN4RYgO9wXcj,2eKXBDzfmY1I1TYPx1zk6g,0wIuduEkOWCFrWZUxVC1lY,4UvwXOGb1J39WUutrlXwTF,20vI8y54qUlPLGBbYWAJeq,6Gz636zVLn1zTiNM7sfERp,6A01kecGAZUNsEufsg8Fvj,5KcRnGVJt5UGtsTwYlG5qJ,3XFqT4EXnULQJobG9eilN0,4ADBECleY1W07PUKeKbsBN,6kdbmxs4hLdlqEm96HitTu,2fSskez8whLr8b1EAx8bkG,765yQbOzD7C0TZHbi6PCpu,0xWQYnsNl1df1AXqGQiPBA,00XkoyPrNWezkad1IYW4iV,1dQNzo7Avk2rJzHH642rX5,2slEt181VugnNBpZqb5Mlp,3hWPgwii27M4aKc1SoLF1u,5y5lTayhyzzdtIkAOHyIw3,7e71sSLD3KOYstj0X2Gqjz,0nhwoo9igFU8s1l8sI3nNQ,6ePgBo6IJsEbiwCYqmu1M6,4d4lkdQsrVDWy8HMIKDlpN,5FqMOMjTDrVv3IIKDKRXPs,2O9c6vcQj3CWMoPM2tEeVl,7aQstJPyQ2Gpv629i38jxD,6fxkMXFkUENtnhwcw4PYAB,2xjggQFEs0yYm6Hvo71l7w,5yK6tgdZ0JRTc9826gGcYD,3XBCUofERh5vvrWBSh6353"
     ]
    }
   ],
   "source": [
    "# Rate limit on this endpoint is crazy\n",
    "audio_feature_list = get_audio_features_by_id(access_token, complete_track_list)"
   ]
  },
  {
   "cell_type": "code",
   "execution_count": 56,
   "metadata": {},
   "outputs": [],
   "source": [
    "with open(\"audio_feature.json\", \"w\") as af:\n",
    "    af.write(json.dumps({\"audio_features\": audio_feature_list}))"
   ]
  },
  {
   "cell_type": "code",
   "execution_count": 57,
   "metadata": {},
   "outputs": [
    {
     "data": {
      "text/plain": [
       "[]"
      ]
     },
     "execution_count": 57,
     "metadata": {},
     "output_type": "execute_result"
    }
   ],
   "source": [
    "audio_feature_list"
   ]
  },
  {
   "cell_type": "code",
   "execution_count": 98,
   "metadata": {},
   "outputs": [],
   "source": [
    "import pandas as pd"
   ]
  },
  {
   "cell_type": "code",
   "execution_count": 99,
   "metadata": {},
   "outputs": [],
   "source": [
    "df_music = pd.read_csv(\"dataset.csv\")"
   ]
  },
  {
   "cell_type": "code",
   "execution_count": 102,
   "metadata": {},
   "outputs": [
    {
     "data": {
      "text/plain": [
       "114"
      ]
     },
     "execution_count": 102,
     "metadata": {},
     "output_type": "execute_result"
    }
   ],
   "source": [
    "len(df_music[\"track_genre\"].unique())"
   ]
  },
  {
   "cell_type": "code",
   "execution_count": null,
   "metadata": {},
   "outputs": [],
   "source": []
  }
 ],
 "metadata": {
  "kernelspec": {
   "display_name": "thesis_env",
   "language": "python",
   "name": "python3"
  },
  "language_info": {
   "codemirror_mode": {
    "name": "ipython",
    "version": 3
   },
   "file_extension": ".py",
   "mimetype": "text/x-python",
   "name": "python",
   "nbconvert_exporter": "python",
   "pygments_lexer": "ipython3",
   "version": "3.8.18"
  },
  "orig_nbformat": 4,
  "vscode": {
   "interpreter": {
    "hash": "b7ab3b8cf9fec3ee533b1070036c9e0a2f944c6b874fa15e1a468d30a0d9557a"
   }
  }
 },
 "nbformat": 4,
 "nbformat_minor": 2
}
